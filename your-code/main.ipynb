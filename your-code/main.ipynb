{
 "cells": [
  {
   "cell_type": "markdown",
   "metadata": {},
   "source": [
    "# Before your start:\n",
    "- Read the README.md file\n",
    "- Comment as much as you can and use the resources in the README.md file\n",
    "- Happy learning!"
   ]
  },
  {
   "cell_type": "code",
   "execution_count": 1,
   "metadata": {},
   "outputs": [],
   "source": [
    "# Import your libraries:\n",
    "\n",
    "%matplotlib inline\n",
    "\n",
    "import numpy as np\n",
    "import pandas as pd"
   ]
  },
  {
   "cell_type": "code",
   "execution_count": 2,
   "metadata": {},
   "outputs": [],
   "source": [
    "from matplotlib import pyplot as plt\n",
    "%matplotlib inline\n",
    "%config Inlinebackend.figure_format = 'retina'\n",
    "\n",
    "import seaborn as sns\n",
    "sns.set_context('poster')\n",
    "sns.set(rc={'figure.figsize': (16., 9.)})\n",
    "sns.set_style('whitegrid')"
   ]
  },
  {
   "cell_type": "code",
   "execution_count": 3,
   "metadata": {},
   "outputs": [],
   "source": [
    "import warnings\n",
    "warnings.filterwarnings(\"ignore\", category=FutureWarning)"
   ]
  },
  {
   "cell_type": "markdown",
   "metadata": {},
   "source": [
    "In this lab, we will explore a dataset that describes websites with different features and labels them either benign or malicious . We will use supervised learning algorithms to figure out what feature patterns malicious websites are likely to have and use our model to predict malicious websites.\n",
    "\n",
    "# Challenge 1 - Explore The Dataset\n",
    "\n",
    "Let's start by exploring the dataset. First load the data file:"
   ]
  },
  {
   "cell_type": "code",
   "execution_count": 4,
   "metadata": {},
   "outputs": [],
   "source": [
    "websites = pd.read_csv('../website.csv')"
   ]
  },
  {
   "cell_type": "markdown",
   "metadata": {},
   "source": [
    "#### Explore the data from an bird's-eye view.\n",
    "\n",
    "You should already been very familiar with the procedures now so we won't provide the instructions step by step. Reflect on what you did in the previous labs and explore the dataset.\n",
    "\n",
    "Things you'll be looking for:\n",
    "\n",
    "* What the dataset looks like?\n",
    "* What are the data types?\n",
    "* Which columns contain the features of the websites?\n",
    "* Which column contains the feature we will predict? What is the code standing for benign vs malicious websites?\n",
    "* Do we need to transform any of the columns from categorical to ordinal values? If so what are these columns?\n",
    "\n",
    "Feel free to add additional cells for your explorations. Make sure to comment what you find out."
   ]
  },
  {
   "cell_type": "code",
   "execution_count": 5,
   "metadata": {},
   "outputs": [
    {
     "data": {
      "text/html": [
       "<div>\n",
       "<style scoped>\n",
       "    .dataframe tbody tr th:only-of-type {\n",
       "        vertical-align: middle;\n",
       "    }\n",
       "\n",
       "    .dataframe tbody tr th {\n",
       "        vertical-align: top;\n",
       "    }\n",
       "\n",
       "    .dataframe thead th {\n",
       "        text-align: right;\n",
       "    }\n",
       "</style>\n",
       "<table border=\"1\" class=\"dataframe\">\n",
       "  <thead>\n",
       "    <tr style=\"text-align: right;\">\n",
       "      <th></th>\n",
       "      <th>URL</th>\n",
       "      <th>URL_LENGTH</th>\n",
       "      <th>NUMBER_SPECIAL_CHARACTERS</th>\n",
       "      <th>CHARSET</th>\n",
       "      <th>SERVER</th>\n",
       "      <th>CONTENT_LENGTH</th>\n",
       "      <th>WHOIS_COUNTRY</th>\n",
       "      <th>WHOIS_STATEPRO</th>\n",
       "      <th>WHOIS_REGDATE</th>\n",
       "      <th>WHOIS_UPDATED_DATE</th>\n",
       "      <th>...</th>\n",
       "      <th>DIST_REMOTE_TCP_PORT</th>\n",
       "      <th>REMOTE_IPS</th>\n",
       "      <th>APP_BYTES</th>\n",
       "      <th>SOURCE_APP_PACKETS</th>\n",
       "      <th>REMOTE_APP_PACKETS</th>\n",
       "      <th>SOURCE_APP_BYTES</th>\n",
       "      <th>REMOTE_APP_BYTES</th>\n",
       "      <th>APP_PACKETS</th>\n",
       "      <th>DNS_QUERY_TIMES</th>\n",
       "      <th>Type</th>\n",
       "    </tr>\n",
       "  </thead>\n",
       "  <tbody>\n",
       "    <tr>\n",
       "      <th>4</th>\n",
       "      <td>B0_403</td>\n",
       "      <td>17</td>\n",
       "      <td>6</td>\n",
       "      <td>UTF-8</td>\n",
       "      <td>NaN</td>\n",
       "      <td>124140.0</td>\n",
       "      <td>US</td>\n",
       "      <td>TX</td>\n",
       "      <td>12/05/1996 0:00</td>\n",
       "      <td>11/04/2017 0:00</td>\n",
       "      <td>...</td>\n",
       "      <td>2</td>\n",
       "      <td>5</td>\n",
       "      <td>4278</td>\n",
       "      <td>61</td>\n",
       "      <td>62</td>\n",
       "      <td>129889</td>\n",
       "      <td>4586</td>\n",
       "      <td>61</td>\n",
       "      <td>4.0</td>\n",
       "      <td>0</td>\n",
       "    </tr>\n",
       "    <tr>\n",
       "      <th>1337</th>\n",
       "      <td>B0_734</td>\n",
       "      <td>68</td>\n",
       "      <td>14</td>\n",
       "      <td>UTF-8</td>\n",
       "      <td>nginx</td>\n",
       "      <td>NaN</td>\n",
       "      <td>US</td>\n",
       "      <td>Nevada</td>\n",
       "      <td>13/11/2002 0:00</td>\n",
       "      <td>12/08/2015 0:00</td>\n",
       "      <td>...</td>\n",
       "      <td>44</td>\n",
       "      <td>3</td>\n",
       "      <td>4703</td>\n",
       "      <td>56</td>\n",
       "      <td>57</td>\n",
       "      <td>69613</td>\n",
       "      <td>5033</td>\n",
       "      <td>56</td>\n",
       "      <td>4.0</td>\n",
       "      <td>0</td>\n",
       "    </tr>\n",
       "    <tr>\n",
       "      <th>1036</th>\n",
       "      <td>B0_1039</td>\n",
       "      <td>55</td>\n",
       "      <td>10</td>\n",
       "      <td>ISO-8859-1</td>\n",
       "      <td>Apache</td>\n",
       "      <td>14953.0</td>\n",
       "      <td>US</td>\n",
       "      <td>NY</td>\n",
       "      <td>30/12/2002 0:00</td>\n",
       "      <td>9/04/2014 0:00</td>\n",
       "      <td>...</td>\n",
       "      <td>0</td>\n",
       "      <td>0</td>\n",
       "      <td>0</td>\n",
       "      <td>0</td>\n",
       "      <td>0</td>\n",
       "      <td>0</td>\n",
       "      <td>0</td>\n",
       "      <td>0</td>\n",
       "      <td>0.0</td>\n",
       "      <td>0</td>\n",
       "    </tr>\n",
       "    <tr>\n",
       "      <th>1432</th>\n",
       "      <td>B0_699</td>\n",
       "      <td>73</td>\n",
       "      <td>12</td>\n",
       "      <td>UTF-8</td>\n",
       "      <td>Server</td>\n",
       "      <td>NaN</td>\n",
       "      <td>US</td>\n",
       "      <td>NV</td>\n",
       "      <td>1/11/1994 0:00</td>\n",
       "      <td>30/04/2014 0:00</td>\n",
       "      <td>...</td>\n",
       "      <td>43</td>\n",
       "      <td>4</td>\n",
       "      <td>5365</td>\n",
       "      <td>55</td>\n",
       "      <td>60</td>\n",
       "      <td>78671</td>\n",
       "      <td>5793</td>\n",
       "      <td>55</td>\n",
       "      <td>6.0</td>\n",
       "      <td>0</td>\n",
       "    </tr>\n",
       "    <tr>\n",
       "      <th>222</th>\n",
       "      <td>M0_96</td>\n",
       "      <td>33</td>\n",
       "      <td>11</td>\n",
       "      <td>utf-8</td>\n",
       "      <td>nginx</td>\n",
       "      <td>NaN</td>\n",
       "      <td>NaN</td>\n",
       "      <td>NaN</td>\n",
       "      <td>8/06/2007 0:00</td>\n",
       "      <td>18/09/2012 0:00</td>\n",
       "      <td>...</td>\n",
       "      <td>0</td>\n",
       "      <td>2</td>\n",
       "      <td>1045</td>\n",
       "      <td>12</td>\n",
       "      <td>11</td>\n",
       "      <td>1362</td>\n",
       "      <td>1333</td>\n",
       "      <td>12</td>\n",
       "      <td>4.0</td>\n",
       "      <td>1</td>\n",
       "    </tr>\n",
       "  </tbody>\n",
       "</table>\n",
       "<p>5 rows × 21 columns</p>\n",
       "</div>"
      ],
      "text/plain": [
       "          URL  URL_LENGTH  NUMBER_SPECIAL_CHARACTERS     CHARSET  SERVER  \\\n",
       "4      B0_403          17                          6       UTF-8     NaN   \n",
       "1337   B0_734          68                         14       UTF-8   nginx   \n",
       "1036  B0_1039          55                         10  ISO-8859-1  Apache   \n",
       "1432   B0_699          73                         12       UTF-8  Server   \n",
       "222     M0_96          33                         11       utf-8   nginx   \n",
       "\n",
       "      CONTENT_LENGTH WHOIS_COUNTRY WHOIS_STATEPRO    WHOIS_REGDATE  \\\n",
       "4           124140.0            US             TX  12/05/1996 0:00   \n",
       "1337             NaN            US         Nevada  13/11/2002 0:00   \n",
       "1036         14953.0            US             NY  30/12/2002 0:00   \n",
       "1432             NaN            US             NV   1/11/1994 0:00   \n",
       "222              NaN           NaN            NaN   8/06/2007 0:00   \n",
       "\n",
       "     WHOIS_UPDATED_DATE  ...  DIST_REMOTE_TCP_PORT  REMOTE_IPS  APP_BYTES  \\\n",
       "4       11/04/2017 0:00  ...                     2           5       4278   \n",
       "1337    12/08/2015 0:00  ...                    44           3       4703   \n",
       "1036     9/04/2014 0:00  ...                     0           0          0   \n",
       "1432    30/04/2014 0:00  ...                    43           4       5365   \n",
       "222     18/09/2012 0:00  ...                     0           2       1045   \n",
       "\n",
       "      SOURCE_APP_PACKETS  REMOTE_APP_PACKETS  SOURCE_APP_BYTES  \\\n",
       "4                     61                  62            129889   \n",
       "1337                  56                  57             69613   \n",
       "1036                   0                   0                 0   \n",
       "1432                  55                  60             78671   \n",
       "222                   12                  11              1362   \n",
       "\n",
       "      REMOTE_APP_BYTES  APP_PACKETS  DNS_QUERY_TIMES  Type  \n",
       "4                 4586           61              4.0     0  \n",
       "1337              5033           56              4.0     0  \n",
       "1036                 0            0              0.0     0  \n",
       "1432              5793           55              6.0     0  \n",
       "222               1333           12              4.0     1  \n",
       "\n",
       "[5 rows x 21 columns]"
      ]
     },
     "execution_count": 5,
     "metadata": {},
     "output_type": "execute_result"
    }
   ],
   "source": [
    "websites.sample(5)"
   ]
  },
  {
   "cell_type": "code",
   "execution_count": 6,
   "metadata": {},
   "outputs": [
    {
     "name": "stdout",
     "output_type": "stream",
     "text": [
      "<class 'pandas.core.frame.DataFrame'>\n",
      "RangeIndex: 1781 entries, 0 to 1780\n",
      "Data columns (total 21 columns):\n",
      " #   Column                     Non-Null Count  Dtype  \n",
      "---  ------                     --------------  -----  \n",
      " 0   URL                        1781 non-null   object \n",
      " 1   URL_LENGTH                 1781 non-null   int64  \n",
      " 2   NUMBER_SPECIAL_CHARACTERS  1781 non-null   int64  \n",
      " 3   CHARSET                    1774 non-null   object \n",
      " 4   SERVER                     1605 non-null   object \n",
      " 5   CONTENT_LENGTH             969 non-null    float64\n",
      " 6   WHOIS_COUNTRY              1475 non-null   object \n",
      " 7   WHOIS_STATEPRO             1419 non-null   object \n",
      " 8   WHOIS_REGDATE              1654 non-null   object \n",
      " 9   WHOIS_UPDATED_DATE         1642 non-null   object \n",
      " 10  TCP_CONVERSATION_EXCHANGE  1781 non-null   int64  \n",
      " 11  DIST_REMOTE_TCP_PORT       1781 non-null   int64  \n",
      " 12  REMOTE_IPS                 1781 non-null   int64  \n",
      " 13  APP_BYTES                  1781 non-null   int64  \n",
      " 14  SOURCE_APP_PACKETS         1781 non-null   int64  \n",
      " 15  REMOTE_APP_PACKETS         1781 non-null   int64  \n",
      " 16  SOURCE_APP_BYTES           1781 non-null   int64  \n",
      " 17  REMOTE_APP_BYTES           1781 non-null   int64  \n",
      " 18  APP_PACKETS                1781 non-null   int64  \n",
      " 19  DNS_QUERY_TIMES            1780 non-null   float64\n",
      " 20  Type                       1781 non-null   int64  \n",
      "dtypes: float64(2), int64(12), object(7)\n",
      "memory usage: 292.3+ KB\n"
     ]
    }
   ],
   "source": [
    "websites.info()"
   ]
  },
  {
   "cell_type": "code",
   "execution_count": 7,
   "metadata": {},
   "outputs": [],
   "source": [
    "# the code standing for benign vs malicious websites is 0-1 in the column type\n",
    "# 0: benign (B), 1: malicious (M)"
   ]
  },
  {
   "cell_type": "markdown",
   "metadata": {},
   "source": [
    "#### Next, evaluate if the columns in this dataset are strongly correlated.\n",
    "\n",
    "In the Mushroom supervised learning lab we did recently, we mentioned we are concerned if our dataset has strongly correlated columns because if it is the case we need to choose certain ML algorithms instead of others. We need to evaluate this for our dataset now.\n",
    "\n",
    "Luckily, most of the columns in this dataset are ordinal which makes things a lot easier for us. In the next cells below, evaluate the level of collinearity of the data.\n",
    "\n",
    "We provide some general directions for you to consult in order to complete this step:\n",
    "\n",
    "1. You will create a correlation matrix using the numeric columns in the dataset.\n",
    "\n",
    "1. Create a heatmap using `seaborn` to visualize which columns have high collinearity.\n",
    "\n",
    "1. Comment on which columns you might need to remove due to high collinearity."
   ]
  },
  {
   "cell_type": "code",
   "execution_count": 8,
   "metadata": {},
   "outputs": [
    {
     "data": {
      "text/html": [
       "<div>\n",
       "<style scoped>\n",
       "    .dataframe tbody tr th:only-of-type {\n",
       "        vertical-align: middle;\n",
       "    }\n",
       "\n",
       "    .dataframe tbody tr th {\n",
       "        vertical-align: top;\n",
       "    }\n",
       "\n",
       "    .dataframe thead th {\n",
       "        text-align: right;\n",
       "    }\n",
       "</style>\n",
       "<table border=\"1\" class=\"dataframe\">\n",
       "  <thead>\n",
       "    <tr style=\"text-align: right;\">\n",
       "      <th></th>\n",
       "      <th>URL_LENGTH</th>\n",
       "      <th>NUMBER_SPECIAL_CHARACTERS</th>\n",
       "      <th>CONTENT_LENGTH</th>\n",
       "      <th>TCP_CONVERSATION_EXCHANGE</th>\n",
       "      <th>DIST_REMOTE_TCP_PORT</th>\n",
       "      <th>REMOTE_IPS</th>\n",
       "      <th>APP_BYTES</th>\n",
       "      <th>SOURCE_APP_PACKETS</th>\n",
       "      <th>REMOTE_APP_PACKETS</th>\n",
       "      <th>SOURCE_APP_BYTES</th>\n",
       "      <th>REMOTE_APP_BYTES</th>\n",
       "      <th>APP_PACKETS</th>\n",
       "      <th>DNS_QUERY_TIMES</th>\n",
       "      <th>Type</th>\n",
       "    </tr>\n",
       "  </thead>\n",
       "  <tbody>\n",
       "    <tr>\n",
       "      <th>URL_LENGTH</th>\n",
       "      <td>1.000000</td>\n",
       "      <td>0.917986</td>\n",
       "      <td>0.129745</td>\n",
       "      <td>-0.038407</td>\n",
       "      <td>-0.039839</td>\n",
       "      <td>-0.046367</td>\n",
       "      <td>-0.026446</td>\n",
       "      <td>-0.042264</td>\n",
       "      <td>-0.033779</td>\n",
       "      <td>-0.014857</td>\n",
       "      <td>-0.026686</td>\n",
       "      <td>-0.042264</td>\n",
       "      <td>-0.068582</td>\n",
       "      <td>0.162104</td>\n",
       "    </tr>\n",
       "    <tr>\n",
       "      <th>NUMBER_SPECIAL_CHARACTERS</th>\n",
       "      <td>0.917986</td>\n",
       "      <td>1.000000</td>\n",
       "      <td>0.214225</td>\n",
       "      <td>-0.037459</td>\n",
       "      <td>-0.042619</td>\n",
       "      <td>-0.047103</td>\n",
       "      <td>-0.023914</td>\n",
       "      <td>-0.040096</td>\n",
       "      <td>-0.030597</td>\n",
       "      <td>-0.014376</td>\n",
       "      <td>-0.024098</td>\n",
       "      <td>-0.040096</td>\n",
       "      <td>-0.050048</td>\n",
       "      <td>0.280897</td>\n",
       "    </tr>\n",
       "    <tr>\n",
       "      <th>CONTENT_LENGTH</th>\n",
       "      <td>0.129745</td>\n",
       "      <td>0.214225</td>\n",
       "      <td>1.000000</td>\n",
       "      <td>0.078451</td>\n",
       "      <td>-0.000381</td>\n",
       "      <td>0.004774</td>\n",
       "      <td>0.051202</td>\n",
       "      <td>0.074142</td>\n",
       "      <td>0.091077</td>\n",
       "      <td>0.100094</td>\n",
       "      <td>0.047595</td>\n",
       "      <td>0.074142</td>\n",
       "      <td>-0.045644</td>\n",
       "      <td>-0.090852</td>\n",
       "    </tr>\n",
       "    <tr>\n",
       "      <th>TCP_CONVERSATION_EXCHANGE</th>\n",
       "      <td>-0.038407</td>\n",
       "      <td>-0.037459</td>\n",
       "      <td>0.078451</td>\n",
       "      <td>1.000000</td>\n",
       "      <td>0.555188</td>\n",
       "      <td>0.331080</td>\n",
       "      <td>0.457320</td>\n",
       "      <td>0.997796</td>\n",
       "      <td>0.990848</td>\n",
       "      <td>0.865580</td>\n",
       "      <td>0.458702</td>\n",
       "      <td>0.997796</td>\n",
       "      <td>0.349832</td>\n",
       "      <td>-0.040202</td>\n",
       "    </tr>\n",
       "    <tr>\n",
       "      <th>DIST_REMOTE_TCP_PORT</th>\n",
       "      <td>-0.039839</td>\n",
       "      <td>-0.042619</td>\n",
       "      <td>-0.000381</td>\n",
       "      <td>0.555188</td>\n",
       "      <td>1.000000</td>\n",
       "      <td>0.210188</td>\n",
       "      <td>0.780238</td>\n",
       "      <td>0.558612</td>\n",
       "      <td>0.591188</td>\n",
       "      <td>0.313359</td>\n",
       "      <td>0.781212</td>\n",
       "      <td>0.558612</td>\n",
       "      <td>0.259942</td>\n",
       "      <td>-0.082925</td>\n",
       "    </tr>\n",
       "    <tr>\n",
       "      <th>REMOTE_IPS</th>\n",
       "      <td>-0.046367</td>\n",
       "      <td>-0.047103</td>\n",
       "      <td>0.004774</td>\n",
       "      <td>0.331080</td>\n",
       "      <td>0.210188</td>\n",
       "      <td>1.000000</td>\n",
       "      <td>0.023126</td>\n",
       "      <td>0.361104</td>\n",
       "      <td>0.304683</td>\n",
       "      <td>0.171651</td>\n",
       "      <td>0.025324</td>\n",
       "      <td>0.361104</td>\n",
       "      <td>0.548189</td>\n",
       "      <td>-0.078783</td>\n",
       "    </tr>\n",
       "    <tr>\n",
       "      <th>APP_BYTES</th>\n",
       "      <td>-0.026446</td>\n",
       "      <td>-0.023914</td>\n",
       "      <td>0.051202</td>\n",
       "      <td>0.457320</td>\n",
       "      <td>0.780238</td>\n",
       "      <td>0.023126</td>\n",
       "      <td>1.000000</td>\n",
       "      <td>0.445822</td>\n",
       "      <td>0.468999</td>\n",
       "      <td>0.074464</td>\n",
       "      <td>0.999992</td>\n",
       "      <td>0.445822</td>\n",
       "      <td>0.012221</td>\n",
       "      <td>-0.011262</td>\n",
       "    </tr>\n",
       "    <tr>\n",
       "      <th>SOURCE_APP_PACKETS</th>\n",
       "      <td>-0.042264</td>\n",
       "      <td>-0.040096</td>\n",
       "      <td>0.074142</td>\n",
       "      <td>0.997796</td>\n",
       "      <td>0.558612</td>\n",
       "      <td>0.361104</td>\n",
       "      <td>0.445822</td>\n",
       "      <td>1.000000</td>\n",
       "      <td>0.989285</td>\n",
       "      <td>0.857495</td>\n",
       "      <td>0.447448</td>\n",
       "      <td>1.000000</td>\n",
       "      <td>0.410843</td>\n",
       "      <td>-0.034414</td>\n",
       "    </tr>\n",
       "    <tr>\n",
       "      <th>REMOTE_APP_PACKETS</th>\n",
       "      <td>-0.033779</td>\n",
       "      <td>-0.030597</td>\n",
       "      <td>0.091077</td>\n",
       "      <td>0.990848</td>\n",
       "      <td>0.591188</td>\n",
       "      <td>0.304683</td>\n",
       "      <td>0.468999</td>\n",
       "      <td>0.989285</td>\n",
       "      <td>1.000000</td>\n",
       "      <td>0.880555</td>\n",
       "      <td>0.470401</td>\n",
       "      <td>0.989285</td>\n",
       "      <td>0.355716</td>\n",
       "      <td>-0.032897</td>\n",
       "    </tr>\n",
       "    <tr>\n",
       "      <th>SOURCE_APP_BYTES</th>\n",
       "      <td>-0.014857</td>\n",
       "      <td>-0.014376</td>\n",
       "      <td>0.100094</td>\n",
       "      <td>0.865580</td>\n",
       "      <td>0.313359</td>\n",
       "      <td>0.171651</td>\n",
       "      <td>0.074464</td>\n",
       "      <td>0.857495</td>\n",
       "      <td>0.880555</td>\n",
       "      <td>1.000000</td>\n",
       "      <td>0.075328</td>\n",
       "      <td>0.857495</td>\n",
       "      <td>0.215285</td>\n",
       "      <td>-0.043852</td>\n",
       "    </tr>\n",
       "    <tr>\n",
       "      <th>REMOTE_APP_BYTES</th>\n",
       "      <td>-0.026686</td>\n",
       "      <td>-0.024098</td>\n",
       "      <td>0.047595</td>\n",
       "      <td>0.458702</td>\n",
       "      <td>0.781212</td>\n",
       "      <td>0.025324</td>\n",
       "      <td>0.999992</td>\n",
       "      <td>0.447448</td>\n",
       "      <td>0.470401</td>\n",
       "      <td>0.075328</td>\n",
       "      <td>1.000000</td>\n",
       "      <td>0.447448</td>\n",
       "      <td>0.016215</td>\n",
       "      <td>-0.011004</td>\n",
       "    </tr>\n",
       "    <tr>\n",
       "      <th>APP_PACKETS</th>\n",
       "      <td>-0.042264</td>\n",
       "      <td>-0.040096</td>\n",
       "      <td>0.074142</td>\n",
       "      <td>0.997796</td>\n",
       "      <td>0.558612</td>\n",
       "      <td>0.361104</td>\n",
       "      <td>0.445822</td>\n",
       "      <td>1.000000</td>\n",
       "      <td>0.989285</td>\n",
       "      <td>0.857495</td>\n",
       "      <td>0.447448</td>\n",
       "      <td>1.000000</td>\n",
       "      <td>0.410843</td>\n",
       "      <td>-0.034414</td>\n",
       "    </tr>\n",
       "    <tr>\n",
       "      <th>DNS_QUERY_TIMES</th>\n",
       "      <td>-0.068582</td>\n",
       "      <td>-0.050048</td>\n",
       "      <td>-0.045644</td>\n",
       "      <td>0.349832</td>\n",
       "      <td>0.259942</td>\n",
       "      <td>0.548189</td>\n",
       "      <td>0.012221</td>\n",
       "      <td>0.410843</td>\n",
       "      <td>0.355716</td>\n",
       "      <td>0.215285</td>\n",
       "      <td>0.016215</td>\n",
       "      <td>0.410843</td>\n",
       "      <td>1.000000</td>\n",
       "      <td>0.068753</td>\n",
       "    </tr>\n",
       "    <tr>\n",
       "      <th>Type</th>\n",
       "      <td>0.162104</td>\n",
       "      <td>0.280897</td>\n",
       "      <td>-0.090852</td>\n",
       "      <td>-0.040202</td>\n",
       "      <td>-0.082925</td>\n",
       "      <td>-0.078783</td>\n",
       "      <td>-0.011262</td>\n",
       "      <td>-0.034414</td>\n",
       "      <td>-0.032897</td>\n",
       "      <td>-0.043852</td>\n",
       "      <td>-0.011004</td>\n",
       "      <td>-0.034414</td>\n",
       "      <td>0.068753</td>\n",
       "      <td>1.000000</td>\n",
       "    </tr>\n",
       "  </tbody>\n",
       "</table>\n",
       "</div>"
      ],
      "text/plain": [
       "                           URL_LENGTH  NUMBER_SPECIAL_CHARACTERS  \\\n",
       "URL_LENGTH                   1.000000                   0.917986   \n",
       "NUMBER_SPECIAL_CHARACTERS    0.917986                   1.000000   \n",
       "CONTENT_LENGTH               0.129745                   0.214225   \n",
       "TCP_CONVERSATION_EXCHANGE   -0.038407                  -0.037459   \n",
       "DIST_REMOTE_TCP_PORT        -0.039839                  -0.042619   \n",
       "REMOTE_IPS                  -0.046367                  -0.047103   \n",
       "APP_BYTES                   -0.026446                  -0.023914   \n",
       "SOURCE_APP_PACKETS          -0.042264                  -0.040096   \n",
       "REMOTE_APP_PACKETS          -0.033779                  -0.030597   \n",
       "SOURCE_APP_BYTES            -0.014857                  -0.014376   \n",
       "REMOTE_APP_BYTES            -0.026686                  -0.024098   \n",
       "APP_PACKETS                 -0.042264                  -0.040096   \n",
       "DNS_QUERY_TIMES             -0.068582                  -0.050048   \n",
       "Type                         0.162104                   0.280897   \n",
       "\n",
       "                           CONTENT_LENGTH  TCP_CONVERSATION_EXCHANGE  \\\n",
       "URL_LENGTH                       0.129745                  -0.038407   \n",
       "NUMBER_SPECIAL_CHARACTERS        0.214225                  -0.037459   \n",
       "CONTENT_LENGTH                   1.000000                   0.078451   \n",
       "TCP_CONVERSATION_EXCHANGE        0.078451                   1.000000   \n",
       "DIST_REMOTE_TCP_PORT            -0.000381                   0.555188   \n",
       "REMOTE_IPS                       0.004774                   0.331080   \n",
       "APP_BYTES                        0.051202                   0.457320   \n",
       "SOURCE_APP_PACKETS               0.074142                   0.997796   \n",
       "REMOTE_APP_PACKETS               0.091077                   0.990848   \n",
       "SOURCE_APP_BYTES                 0.100094                   0.865580   \n",
       "REMOTE_APP_BYTES                 0.047595                   0.458702   \n",
       "APP_PACKETS                      0.074142                   0.997796   \n",
       "DNS_QUERY_TIMES                 -0.045644                   0.349832   \n",
       "Type                            -0.090852                  -0.040202   \n",
       "\n",
       "                           DIST_REMOTE_TCP_PORT  REMOTE_IPS  APP_BYTES  \\\n",
       "URL_LENGTH                            -0.039839   -0.046367  -0.026446   \n",
       "NUMBER_SPECIAL_CHARACTERS             -0.042619   -0.047103  -0.023914   \n",
       "CONTENT_LENGTH                        -0.000381    0.004774   0.051202   \n",
       "TCP_CONVERSATION_EXCHANGE              0.555188    0.331080   0.457320   \n",
       "DIST_REMOTE_TCP_PORT                   1.000000    0.210188   0.780238   \n",
       "REMOTE_IPS                             0.210188    1.000000   0.023126   \n",
       "APP_BYTES                              0.780238    0.023126   1.000000   \n",
       "SOURCE_APP_PACKETS                     0.558612    0.361104   0.445822   \n",
       "REMOTE_APP_PACKETS                     0.591188    0.304683   0.468999   \n",
       "SOURCE_APP_BYTES                       0.313359    0.171651   0.074464   \n",
       "REMOTE_APP_BYTES                       0.781212    0.025324   0.999992   \n",
       "APP_PACKETS                            0.558612    0.361104   0.445822   \n",
       "DNS_QUERY_TIMES                        0.259942    0.548189   0.012221   \n",
       "Type                                  -0.082925   -0.078783  -0.011262   \n",
       "\n",
       "                           SOURCE_APP_PACKETS  REMOTE_APP_PACKETS  \\\n",
       "URL_LENGTH                          -0.042264           -0.033779   \n",
       "NUMBER_SPECIAL_CHARACTERS           -0.040096           -0.030597   \n",
       "CONTENT_LENGTH                       0.074142            0.091077   \n",
       "TCP_CONVERSATION_EXCHANGE            0.997796            0.990848   \n",
       "DIST_REMOTE_TCP_PORT                 0.558612            0.591188   \n",
       "REMOTE_IPS                           0.361104            0.304683   \n",
       "APP_BYTES                            0.445822            0.468999   \n",
       "SOURCE_APP_PACKETS                   1.000000            0.989285   \n",
       "REMOTE_APP_PACKETS                   0.989285            1.000000   \n",
       "SOURCE_APP_BYTES                     0.857495            0.880555   \n",
       "REMOTE_APP_BYTES                     0.447448            0.470401   \n",
       "APP_PACKETS                          1.000000            0.989285   \n",
       "DNS_QUERY_TIMES                      0.410843            0.355716   \n",
       "Type                                -0.034414           -0.032897   \n",
       "\n",
       "                           SOURCE_APP_BYTES  REMOTE_APP_BYTES  APP_PACKETS  \\\n",
       "URL_LENGTH                        -0.014857         -0.026686    -0.042264   \n",
       "NUMBER_SPECIAL_CHARACTERS         -0.014376         -0.024098    -0.040096   \n",
       "CONTENT_LENGTH                     0.100094          0.047595     0.074142   \n",
       "TCP_CONVERSATION_EXCHANGE          0.865580          0.458702     0.997796   \n",
       "DIST_REMOTE_TCP_PORT               0.313359          0.781212     0.558612   \n",
       "REMOTE_IPS                         0.171651          0.025324     0.361104   \n",
       "APP_BYTES                          0.074464          0.999992     0.445822   \n",
       "SOURCE_APP_PACKETS                 0.857495          0.447448     1.000000   \n",
       "REMOTE_APP_PACKETS                 0.880555          0.470401     0.989285   \n",
       "SOURCE_APP_BYTES                   1.000000          0.075328     0.857495   \n",
       "REMOTE_APP_BYTES                   0.075328          1.000000     0.447448   \n",
       "APP_PACKETS                        0.857495          0.447448     1.000000   \n",
       "DNS_QUERY_TIMES                    0.215285          0.016215     0.410843   \n",
       "Type                              -0.043852         -0.011004    -0.034414   \n",
       "\n",
       "                           DNS_QUERY_TIMES      Type  \n",
       "URL_LENGTH                       -0.068582  0.162104  \n",
       "NUMBER_SPECIAL_CHARACTERS        -0.050048  0.280897  \n",
       "CONTENT_LENGTH                   -0.045644 -0.090852  \n",
       "TCP_CONVERSATION_EXCHANGE         0.349832 -0.040202  \n",
       "DIST_REMOTE_TCP_PORT              0.259942 -0.082925  \n",
       "REMOTE_IPS                        0.548189 -0.078783  \n",
       "APP_BYTES                         0.012221 -0.011262  \n",
       "SOURCE_APP_PACKETS                0.410843 -0.034414  \n",
       "REMOTE_APP_PACKETS                0.355716 -0.032897  \n",
       "SOURCE_APP_BYTES                  0.215285 -0.043852  \n",
       "REMOTE_APP_BYTES                  0.016215 -0.011004  \n",
       "APP_PACKETS                       0.410843 -0.034414  \n",
       "DNS_QUERY_TIMES                   1.000000  0.068753  \n",
       "Type                              0.068753  1.000000  "
      ]
     },
     "execution_count": 8,
     "metadata": {},
     "output_type": "execute_result"
    }
   ],
   "source": [
    "corr = websites.drop(columns={\"URL\",\"CHARSET\",\"SERVER\",\"WHOIS_COUNTRY\",\"WHOIS_STATEPRO\",\"WHOIS_REGDATE\",\"WHOIS_UPDATED_DATE\"}).corr()\n",
    "corr"
   ]
  },
  {
   "cell_type": "code",
   "execution_count": 9,
   "metadata": {},
   "outputs": [
    {
     "data": {
      "image/png": "[encoded data removed]",
      "text/plain": [
       "<Figure size 1600x900 with 2 Axes>"
      ]
     },
     "metadata": {},
     "output_type": "display_data"
    }
   ],
   "source": [
    "mask = np.triu(np.ones_like(corr, dtype=bool)) \n",
    "color_map = sns.diverging_palette(0, 10, as_cmap=True)\n",
    "sns.heatmap(corr,  \n",
    "            annot=True,\n",
    "            mask = mask,\n",
    "            cmap=color_map,\n",
    "            square=True, \n",
    "            linewidth=0.5,\n",
    "            vmax=1, #defining max range\n",
    "            vmin=-1, #defining min range\n",
    "            cbar_kws={\"shrink\": .5} #steps for the scale\n",
    ");"
   ]
  },
  {
   "cell_type": "code",
   "execution_count": 10,
   "metadata": {},
   "outputs": [
    {
     "data": {
      "text/plain": [
       "'\\nHigh correlation between:\\n\\nNUMBER_SPECIAL_CHARACTERS and URL_LENGTH\\nTOP_CONVERSATION_EXCHANGE and APP_PACKETS\\nTOP_CONVERSATION_EXCHANGE and SOURCE_APP_BYTES\\nTOP_CONVERSATION_EXCHANGE and REMOTE_APP_PACKETS\\nTOP_CONVERSATION_EXCHANGE and SOURCE_APP_PACKETS\\nAPP_BYTES and REMOTE_APP_BYTES\\nSOURCE_APP_PACKETS and APP_PACKETS\\nSOURCE_APP_PACKETS and SOURCE_APP_BYTES\\nSOURCE_APP_PACKETS and REMOTE_APP_PACKETS\\nREMOTE_APP_PACKETS and APP_PACKETS\\nREMOTE_APP_PACKETS and SOURCE_APP_BYTES\\nSOURCE_APP_BYTES and APP_PACKETS\\n'"
      ]
     },
     "execution_count": 10,
     "metadata": {},
     "output_type": "execute_result"
    }
   ],
   "source": [
    "'''\n",
    "High correlation between:\n",
    "\n",
    "NUMBER_SPECIAL_CHARACTERS and URL_LENGTH\n",
    "TOP_CONVERSATION_EXCHANGE and APP_PACKETS\n",
    "TOP_CONVERSATION_EXCHANGE and SOURCE_APP_BYTES\n",
    "TOP_CONVERSATION_EXCHANGE and REMOTE_APP_PACKETS\n",
    "TOP_CONVERSATION_EXCHANGE and SOURCE_APP_PACKETS\n",
    "APP_BYTES and REMOTE_APP_BYTES\n",
    "SOURCE_APP_PACKETS and APP_PACKETS\n",
    "SOURCE_APP_PACKETS and SOURCE_APP_BYTES\n",
    "SOURCE_APP_PACKETS and REMOTE_APP_PACKETS\n",
    "REMOTE_APP_PACKETS and APP_PACKETS\n",
    "REMOTE_APP_PACKETS and SOURCE_APP_BYTES\n",
    "SOURCE_APP_BYTES and APP_PACKETS\n",
    "'''"
   ]
  },
  {
   "cell_type": "markdown",
   "metadata": {},
   "source": [
    "# Challenge 2 - Remove Column Collinearity.\n",
    "\n",
    "From the heatmap you created, you should have seen at least 3 columns that can be removed due to high collinearity. Remove these columns from the dataset.\n",
    "\n",
    "Note that you should remove as few columns as you can. You don't have to remove all the columns at once. But instead, try removing one column, then produce the heatmap again to determine if additional columns should be removed. As long as the dataset no longer contains columns that are correlated for over 90%, you can stop. Also, keep in mind when two columns have high collinearity, you only need to remove one of them but not both.\n",
    "\n",
    "In the cells below, remove as few columns as you can to eliminate the high collinearity in the dataset. Make sure to comment on your way so that the instructional team can learn about your thinking process which allows them to give feedback. At the end, print the heatmap again."
   ]
  },
  {
   "cell_type": "code",
   "execution_count": 11,
   "metadata": {},
   "outputs": [],
   "source": [
    "# TOP_CONVERSATION_EXCHANGE, APP_PACKETS, REMOTE_APP_PACKETS and SOURCE_APP_PACKETS are highly correlated\n",
    "# I'll eliminate APP_PACKETS, REMOTE_APP_PACKETS and SOURCE_APP_PACKETS\n",
    "\n",
    "# Also APP_BYTES and REMOTE_APP_BYTES are highly correlated\n",
    "# I'll remove REMOTE_APP_BYTES"
   ]
  },
  {
   "cell_type": "code",
   "execution_count": 12,
   "metadata": {},
   "outputs": [],
   "source": [
    "websites.drop(columns={\"APP_PACKETS\",\"REMOTE_APP_PACKETS\",\"SOURCE_APP_PACKETS\",\"REMOTE_APP_BYTES\"}, inplace=True)"
   ]
  },
  {
   "cell_type": "code",
   "execution_count": 13,
   "metadata": {},
   "outputs": [
    {
     "data": {
      "image/png": "[encoded data removed]",
      "text/plain": [
       "<Figure size 1600x900 with 2 Axes>"
      ]
     },
     "metadata": {},
     "output_type": "display_data"
    }
   ],
   "source": [
    "corr = websites.drop(columns={\"URL\",\"CHARSET\",\"SERVER\",\"WHOIS_COUNTRY\",\"WHOIS_STATEPRO\",\"WHOIS_REGDATE\",\"WHOIS_UPDATED_DATE\"}).corr()\n",
    "mask = np.triu(np.ones_like(corr, dtype=bool)) \n",
    "color_map = sns.diverging_palette(0, 10, as_cmap=True)\n",
    "sns.heatmap(corr,  \n",
    "            annot=True,\n",
    "            mask = mask,\n",
    "            cmap=color_map,\n",
    "            square=True, \n",
    "            linewidth=0.5,\n",
    "            vmax=1, #defining max range\n",
    "            vmin=-1, #defining min range\n",
    "            cbar_kws={\"shrink\": .5} #steps for the scale\n",
    ");\n"
   ]
  },
  {
   "cell_type": "markdown",
   "metadata": {},
   "source": [
    "# Challenge 3 - Handle Missing Values\n",
    "\n",
    "The next step would be handling missing values. **We start by examining the number of missing values in each column, which you will do in the next cell.**"
   ]
  },
  {
   "cell_type": "code",
   "execution_count": 14,
   "metadata": {},
   "outputs": [
    {
     "name": "stdout",
     "output_type": "stream",
     "text": [
      "<class 'pandas.core.frame.DataFrame'>\n",
      "RangeIndex: 1781 entries, 0 to 1780\n",
      "Data columns (total 17 columns):\n",
      " #   Column                     Non-Null Count  Dtype  \n",
      "---  ------                     --------------  -----  \n",
      " 0   URL                        1781 non-null   object \n",
      " 1   URL_LENGTH                 1781 non-null   int64  \n",
      " 2   NUMBER_SPECIAL_CHARACTERS  1781 non-null   int64  \n",
      " 3   CHARSET                    1774 non-null   object \n",
      " 4   SERVER                     1605 non-null   object \n",
      " 5   CONTENT_LENGTH             969 non-null    float64\n",
      " 6   WHOIS_COUNTRY              1475 non-null   object \n",
      " 7   WHOIS_STATEPRO             1419 non-null   object \n",
      " 8   WHOIS_REGDATE              1654 non-null   object \n",
      " 9   WHOIS_UPDATED_DATE         1642 non-null   object \n",
      " 10  TCP_CONVERSATION_EXCHANGE  1781 non-null   int64  \n",
      " 11  DIST_REMOTE_TCP_PORT       1781 non-null   int64  \n",
      " 12  REMOTE_IPS                 1781 non-null   int64  \n",
      " 13  APP_BYTES                  1781 non-null   int64  \n",
      " 14  SOURCE_APP_BYTES           1781 non-null   int64  \n",
      " 15  DNS_QUERY_TIMES            1780 non-null   float64\n",
      " 16  Type                       1781 non-null   int64  \n",
      "dtypes: float64(2), int64(8), object(7)\n",
      "memory usage: 236.7+ KB\n"
     ]
    }
   ],
   "source": [
    "websites.info()\n"
   ]
  },
  {
   "cell_type": "markdown",
   "metadata": {},
   "source": [
    "If you remember in the previous labs, we drop a column if the column contains a high proportion of missing values. After dropping those problematic columns, we drop the rows with missing values.\n",
    "\n",
    "#### In the cells below, handle the missing values from the dataset. Remember to comment the rationale of your decisions."
   ]
  },
  {
   "cell_type": "code",
   "execution_count": 15,
   "metadata": {},
   "outputs": [],
   "source": [
    "websites.drop(columns={\"CONTENT_LENGTH\"},inplace=True) #it contains a lot of null values\n",
    "websites.dropna(inplace=True)"
   ]
  },
  {
   "cell_type": "markdown",
   "metadata": {},
   "source": [
    "#### Again, examine the number of missing values in each column. \n",
    "\n",
    "If all cleaned, proceed. Otherwise, go back and do more cleaning."
   ]
  },
  {
   "cell_type": "code",
   "execution_count": 16,
   "metadata": {
    "scrolled": true
   },
   "outputs": [
    {
     "name": "stdout",
     "output_type": "stream",
     "text": [
      "<class 'pandas.core.frame.DataFrame'>\n",
      "Index: 1257 entries, 3 to 1780\n",
      "Data columns (total 16 columns):\n",
      " #   Column                     Non-Null Count  Dtype  \n",
      "---  ------                     --------------  -----  \n",
      " 0   URL                        1257 non-null   object \n",
      " 1   URL_LENGTH                 1257 non-null   int64  \n",
      " 2   NUMBER_SPECIAL_CHARACTERS  1257 non-null   int64  \n",
      " 3   CHARSET                    1257 non-null   object \n",
      " 4   SERVER                     1257 non-null   object \n",
      " 5   WHOIS_COUNTRY              1257 non-null   object \n",
      " 6   WHOIS_STATEPRO             1257 non-null   object \n",
      " 7   WHOIS_REGDATE              1257 non-null   object \n",
      " 8   WHOIS_UPDATED_DATE         1257 non-null   object \n",
      " 9   TCP_CONVERSATION_EXCHANGE  1257 non-null   int64  \n",
      " 10  DIST_REMOTE_TCP_PORT       1257 non-null   int64  \n",
      " 11  REMOTE_IPS                 1257 non-null   int64  \n",
      " 12  APP_BYTES                  1257 non-null   int64  \n",
      " 13  SOURCE_APP_BYTES           1257 non-null   int64  \n",
      " 14  DNS_QUERY_TIMES            1257 non-null   float64\n",
      " 15  Type                       1257 non-null   int64  \n",
      "dtypes: float64(1), int64(8), object(7)\n",
      "memory usage: 166.9+ KB\n"
     ]
    }
   ],
   "source": [
    "websites.info()"
   ]
  },
  {
   "cell_type": "code",
   "execution_count": 17,
   "metadata": {},
   "outputs": [],
   "source": [
    "# no missing values now"
   ]
  },
  {
   "cell_type": "markdown",
   "metadata": {},
   "source": [
    "# Challenge 4 - Handle `WHOIS_*` Categorical Data"
   ]
  },
  {
   "cell_type": "markdown",
   "metadata": {},
   "source": [
    "There are several categorical columns we need to handle. These columns are:\n",
    "\n",
    "* `URL`\n",
    "* `CHARSET`\n",
    "* `SERVER`\n",
    "* `WHOIS_COUNTRY`\n",
    "* `WHOIS_STATEPRO`\n",
    "* `WHOIS_REGDATE`\n",
    "* `WHOIS_UPDATED_DATE`\n",
    "\n",
    "How to handle string columns is always case by case. Let's start by working on `WHOIS_COUNTRY`. Your steps are:\n",
    "\n",
    "1. List out the unique values of `WHOIS_COUNTRY`.\n",
    "1. Consolidate the country values with consistent country codes. For example, the following values refer to the same country and should use consistent country code:\n",
    "    * `CY` and `Cyprus`\n",
    "    * `US` and `us`\n",
    "    * `SE` and `se`\n",
    "    * `GB`, `United Kingdom`, and `[u'GB'; u'UK']`\n",
    "\n",
    "#### In the cells below, fix the country values as intructed above."
   ]
  },
  {
   "cell_type": "code",
   "execution_count": 18,
   "metadata": {
    "scrolled": true
   },
   "outputs": [
    {
     "data": {
      "text/plain": [
       "{'AE',\n",
       " 'AT',\n",
       " 'AU',\n",
       " 'BE',\n",
       " 'BS',\n",
       " 'BY',\n",
       " 'CA',\n",
       " 'CH',\n",
       " 'CN',\n",
       " 'CZ',\n",
       " 'DE',\n",
       " 'ES',\n",
       " 'GB',\n",
       " 'HK',\n",
       " 'IE',\n",
       " 'IL',\n",
       " 'IN',\n",
       " 'IT',\n",
       " 'JP',\n",
       " 'KG',\n",
       " 'KY',\n",
       " 'LV',\n",
       " 'NL',\n",
       " 'NO',\n",
       " 'PA',\n",
       " 'PH',\n",
       " 'PK',\n",
       " 'RU',\n",
       " 'SC',\n",
       " 'SE',\n",
       " 'SI',\n",
       " 'TR',\n",
       " 'UA',\n",
       " 'UG',\n",
       " 'UK',\n",
       " 'US',\n",
       " 'UY',\n",
       " \"[u'GB'; u'UK']\",\n",
       " 'ru',\n",
       " 'us'}"
      ]
     },
     "execution_count": 18,
     "metadata": {},
     "output_type": "execute_result"
    }
   ],
   "source": [
    "set(websites[\"WHOIS_COUNTRY\"])"
   ]
  },
  {
   "cell_type": "code",
   "execution_count": 19,
   "metadata": {},
   "outputs": [],
   "source": [
    "def clean_country(st):\n",
    "    if st==\"[u'GB'; u'UK']\":\n",
    "        return 'UK'\n",
    "    elif st=='GB':\n",
    "        return 'UK'\n",
    "    elif st=='us':\n",
    "        return 'US'\n",
    "    elif st=='ru':\n",
    "        return 'RU'\n",
    "    else:\n",
    "        return st"
   ]
  },
  {
   "cell_type": "code",
   "execution_count": 20,
   "metadata": {},
   "outputs": [],
   "source": [
    "websites[\"WHOIS_COUNTRY\"] = websites[\"WHOIS_COUNTRY\"].apply(clean_country)"
   ]
  },
  {
   "cell_type": "code",
   "execution_count": 21,
   "metadata": {},
   "outputs": [
    {
     "data": {
      "text/plain": [
       "{'AE',\n",
       " 'AT',\n",
       " 'AU',\n",
       " 'BE',\n",
       " 'BS',\n",
       " 'BY',\n",
       " 'CA',\n",
       " 'CH',\n",
       " 'CN',\n",
       " 'CZ',\n",
       " 'DE',\n",
       " 'ES',\n",
       " 'HK',\n",
       " 'IE',\n",
       " 'IL',\n",
       " 'IN',\n",
       " 'IT',\n",
       " 'JP',\n",
       " 'KG',\n",
       " 'KY',\n",
       " 'LV',\n",
       " 'NL',\n",
       " 'NO',\n",
       " 'PA',\n",
       " 'PH',\n",
       " 'PK',\n",
       " 'RU',\n",
       " 'SC',\n",
       " 'SE',\n",
       " 'SI',\n",
       " 'TR',\n",
       " 'UA',\n",
       " 'UG',\n",
       " 'UK',\n",
       " 'US',\n",
       " 'UY'}"
      ]
     },
     "execution_count": 21,
     "metadata": {},
     "output_type": "execute_result"
    }
   ],
   "source": [
    "set(websites[\"WHOIS_COUNTRY\"])"
   ]
  },
  {
   "cell_type": "markdown",
   "metadata": {},
   "source": [
    "Since we have fixed the country values, can we convert this column to ordinal now?\n",
    "\n",
    "Not yet. If you reflect on the previous labs how we handle categorical columns, you probably remember we ended up dropping a lot of those columns because there are too many unique values. Too many unique values in a column is not desirable in machine learning because it makes prediction inaccurate. But there are workarounds under certain conditions. One of the fixable conditions is:\n",
    "\n",
    "#### If a limited number of values account for the majority of data, we can retain these top values and re-label all other rare values.\n",
    "\n",
    "The `WHOIS_COUNTRY` column happens to be this case. You can verify it by print a bar chart of the `value_counts` in the next cell to verify:"
   ]
  },
  {
   "cell_type": "code",
   "execution_count": 22,
   "metadata": {},
   "outputs": [
    {
     "data": {
      "text/plain": [
       "WHOIS_COUNTRY\n",
       "US    960\n",
       "CA     75\n",
       "ES     63\n",
       "AU     26\n",
       "UK     22\n",
       "PA     21\n",
       "JP     10\n",
       "IN      8\n",
       "CZ      8\n",
       "CN      8\n",
       "RU      6\n",
       "NL      5\n",
       "CH      5\n",
       "BS      4\n",
       "AT      4\n",
       "KY      3\n",
       "PH      3\n",
       "SC      3\n",
       "UY      2\n",
       "UA      2\n",
       "KG      2\n",
       "HK      2\n",
       "SI      2\n",
       "LV      1\n",
       "PK      1\n",
       "IL      1\n",
       "DE      1\n",
       "SE      1\n",
       "IT      1\n",
       "NO      1\n",
       "BE      1\n",
       "BY      1\n",
       "AE      1\n",
       "IE      1\n",
       "UG      1\n",
       "TR      1\n",
       "Name: count, dtype: int64"
      ]
     },
     "execution_count": 22,
     "metadata": {},
     "output_type": "execute_result"
    }
   ],
   "source": [
    "websites[\"WHOIS_COUNTRY\"].value_counts()"
   ]
  },
  {
   "cell_type": "code",
   "execution_count": 23,
   "metadata": {
    "scrolled": true
   },
   "outputs": [
    {
     "data": {
      "image/png": "[encoded data removed]",
      "text/plain": [
       "<Figure size 1600x900 with 1 Axes>"
      ]
     },
     "metadata": {},
     "output_type": "display_data"
    }
   ],
   "source": [
    "sns.countplot(x=\"WHOIS_COUNTRY\", data = websites);"
   ]
  },
  {
   "cell_type": "markdown",
   "metadata": {},
   "source": [
    "#### After verifying, now let's keep the top 10 values of the column and re-label other columns with `OTHER`."
   ]
  },
  {
   "cell_type": "code",
   "execution_count": 24,
   "metadata": {
    "scrolled": true
   },
   "outputs": [],
   "source": [
    "def change_country(str):\n",
    "    if str not in [\"US\",\"CA\",\"ES\",\"AU\",\"PA\",\"GB\",\"JP\",\"CN\", \"CZ\",\"IN\"]:\n",
    "        return 'OTHER'\n",
    "    else:\n",
    "        return str\n",
    "websites[\"WHOIS_COUNTRY\"] = websites[\"WHOIS_COUNTRY\"].apply(change_country)"
   ]
  },
  {
   "cell_type": "markdown",
   "metadata": {},
   "source": [
    "Now since `WHOIS_COUNTRY` has been re-labelled, we don't need `WHOIS_STATEPRO` any more because the values of the states or provinces may not be relevant any more. We'll drop this column.\n",
    "\n",
    "In addition, we will also drop `WHOIS_REGDATE` and `WHOIS_UPDATED_DATE`. These are the registration and update dates of the website domains. Not of our concerns.\n",
    "\n",
    "#### In the next cell, drop `['WHOIS_STATEPRO', 'WHOIS_REGDATE', 'WHOIS_UPDATED_DATE']`."
   ]
  },
  {
   "cell_type": "code",
   "execution_count": 25,
   "metadata": {},
   "outputs": [],
   "source": [
    "websites.drop(columns={\"WHOIS_STATEPRO\", \"WHOIS_REGDATE\",\"WHOIS_UPDATED_DATE\"}, inplace=True)"
   ]
  },
  {
   "cell_type": "markdown",
   "metadata": {},
   "source": [
    "# Challenge 5 - Handle Remaining Categorical Data & Convert to Ordinal\n",
    "\n",
    "Now print the `dtypes` of the data again. Besides `WHOIS_COUNTRY` which we already fixed, there should be 3 categorical columns left: `URL`, `CHARSET`, and `SERVER`."
   ]
  },
  {
   "cell_type": "code",
   "execution_count": 26,
   "metadata": {},
   "outputs": [
    {
     "name": "stdout",
     "output_type": "stream",
     "text": [
      "<class 'pandas.core.frame.DataFrame'>\n",
      "Index: 1257 entries, 3 to 1780\n",
      "Data columns (total 13 columns):\n",
      " #   Column                     Non-Null Count  Dtype  \n",
      "---  ------                     --------------  -----  \n",
      " 0   URL                        1257 non-null   object \n",
      " 1   URL_LENGTH                 1257 non-null   int64  \n",
      " 2   NUMBER_SPECIAL_CHARACTERS  1257 non-null   int64  \n",
      " 3   CHARSET                    1257 non-null   object \n",
      " 4   SERVER                     1257 non-null   object \n",
      " 5   WHOIS_COUNTRY              1257 non-null   object \n",
      " 6   TCP_CONVERSATION_EXCHANGE  1257 non-null   int64  \n",
      " 7   DIST_REMOTE_TCP_PORT       1257 non-null   int64  \n",
      " 8   REMOTE_IPS                 1257 non-null   int64  \n",
      " 9   APP_BYTES                  1257 non-null   int64  \n",
      " 10  SOURCE_APP_BYTES           1257 non-null   int64  \n",
      " 11  DNS_QUERY_TIMES            1257 non-null   float64\n",
      " 12  Type                       1257 non-null   int64  \n",
      "dtypes: float64(1), int64(8), object(4)\n",
      "memory usage: 137.5+ KB\n"
     ]
    }
   ],
   "source": [
    "websites.info()"
   ]
  },
  {
   "cell_type": "markdown",
   "metadata": {},
   "source": [
    "#### `URL` is easy. We'll simply drop it because it has too many unique values that there's no way for us to consolidate."
   ]
  },
  {
   "cell_type": "code",
   "execution_count": 27,
   "metadata": {},
   "outputs": [],
   "source": [
    "websites.drop(columns={\"URL\"},inplace=True)"
   ]
  },
  {
   "cell_type": "markdown",
   "metadata": {},
   "source": [
    "#### Print the unique value counts of `CHARSET`. You see there are only a few unique values. So we can keep it as it is."
   ]
  },
  {
   "cell_type": "code",
   "execution_count": 28,
   "metadata": {},
   "outputs": [
    {
     "data": {
      "text/plain": [
       "array(['ISO-8859-1', 'UTF-8', 'iso-8859-1', 'us-ascii', 'utf-8',\n",
       "       'windows-1251', 'windows-1252'], dtype=object)"
      ]
     },
     "execution_count": 28,
     "metadata": {},
     "output_type": "execute_result"
    }
   ],
   "source": [
    "websites[\"CHARSET\"].unique()"
   ]
  },
  {
   "cell_type": "code",
   "execution_count": 29,
   "metadata": {},
   "outputs": [
    {
     "data": {
      "text/plain": [
       "array(['ISO-8859-1', 'UTF-8', 'US-ASCII', 'WINDOWS-1251', 'WINDOWS-1252'],\n",
       "      dtype=object)"
      ]
     },
     "execution_count": 29,
     "metadata": {},
     "output_type": "execute_result"
    }
   ],
   "source": [
    "websites[\"CHARSET\"] = websites[\"CHARSET\"].apply(lambda x : x.upper())\n",
    "websites[\"CHARSET\"].unique()"
   ]
  },
  {
   "cell_type": "markdown",
   "metadata": {},
   "source": [
    "`SERVER` is a little more complicated. Print its unique values and think about how you can consolidate those values.\n",
    "\n",
    "#### Before you think of your own solution, don't read the instructions that come next."
   ]
  },
  {
   "cell_type": "code",
   "execution_count": 30,
   "metadata": {},
   "outputs": [
    {
     "data": {
      "text/plain": [
       "array(['nginx', 'Apache/2', 'Microsoft-HTTPAPI/2.0', 'Apache',\n",
       "       'openresty/1.11.2.1', 'Apache/2.4.7 (Ubuntu)', 'nginx/1.12.0',\n",
       "       'Apache/2.4.12 (Unix) OpenSSL/1.0.1e-fips mod_bwlimited/1.4',\n",
       "       'cloudflare-nginx', 'Apache/2.2.22', 'nginx/1.8.0',\n",
       "       'Apache/2.2.29 (Amazon)', 'Microsoft-IIS/7.5',\n",
       "       'Apache/2.4.23 (Unix) OpenSSL/1.0.1e-fips mod_bwlimited/1.4',\n",
       "       'Apache/2.2.22 (Debian)', 'Apache/2.2.15 (CentOS)',\n",
       "       'Apache/2.4.25 (Amazon) PHP/7.0.14', 'GSE',\n",
       "       'Apache/2.4.23 (Unix) OpenSSL/0.9.8e-fips-rhel5 mod_bwlimited/1.4',\n",
       "       'Pepyaka/1.11.3', 'Apache/2.4.25 (Amazon) OpenSSL/1.0.1k-fips',\n",
       "       'Apache/2.2.22 (Ubuntu)', 'Apache/2.4.25', 'Tengine',\n",
       "       'Apache/2.4.18 (Unix) OpenSSL/0.9.8e-fips-rhel5 mod_bwlimited/1.4',\n",
       "       'Apache/2.4.6 (CentOS) PHP/5.6.8', 'AmazonS3',\n",
       "       'Apache/1.3.37 (Unix) mod_perl/1.29 mod_ssl/2.8.28 OpenSSL/0.9.7e-p1',\n",
       "       'ATS', 'CherryPy/3.6.0', 'Apache/2.2.15 (Red Hat)', 'Server',\n",
       "       'Apache/2.4.6 (CentOS) OpenSSL/1.0.1e-fips mod_fcgid/2.3.9 PHP/5.4.16 mod_jk/1.2.40',\n",
       "       'Apache/2.2.3 (CentOS)', 'Apache/2.4',\n",
       "       'nginx/1.10.1 + Phusion Passenger 5.0.30', 'mw2114.codfw.wmnet',\n",
       "       'Apache/2.2.31 (Unix) mod_ssl/2.2.31 OpenSSL/1.0.1e-fips mod_bwlimited/1.4 mod_perl/2.0.8 Perl/v5.10.1',\n",
       "       'Apache/1.3.34 (Unix) PHP/4.4.4', 'Jetty(9.0.z-SNAPSHOT)',\n",
       "       'Apache/2.2.31 (CentOS)', 'Apache/2.4.10 (Debian)', 'HTTPDaemon',\n",
       "       'Apache/2.2.29 (Unix) mod_ssl/2.2.29 OpenSSL/1.0.1e-fips mod_bwlimited/1.4',\n",
       "       'MediaFire', 'DOSarrest', 'mw2232.codfw.wmnet',\n",
       "       'Sucuri/Cloudproxy', 'mw2260.codfw.wmnet', 'Apache/2.2.32',\n",
       "       'mw2239.codfw.wmnet', 'Apache/2.0.52 (Red Hat)',\n",
       "       'Apache/1.3.31 (Unix) PHP/4.3.9 mod_perl/1.29 rus/PL30.20',\n",
       "       'Apache/2.2.13 (Unix) mod_ssl/2.2.13 OpenSSL/0.9.8e-fips-rhel5 mod_auth_passthrough/2.1 mod_bwlimited/1.4 PHP/5.2.10',\n",
       "       'nginx/1.1.19', 'ATS/5.3.0', 'openresty', 'nginx/1.4.3',\n",
       "       'Apache/2.2.29 (Unix) mod_ssl/2.2.29 OpenSSL/1.0.1e-fips mod_bwlimited/1.4 PHP/5.4.35',\n",
       "       'Apache/2.2.14 (FreeBSD) mod_ssl/2.2.14 OpenSSL/0.9.8y DAV/2 PHP/5.2.12 with Suhosin-Patch',\n",
       "       'Apache/2.2.14 (Unix) mod_ssl/2.2.14 OpenSSL/0.9.8e-fips-rhel5',\n",
       "       'SSWS', 'Apache/2.4.18 (Ubuntu)',\n",
       "       'Apache/2.4.6 (CentOS) OpenSSL/1.0.1e-fips PHP/5.4.16 mod_apreq2-20090110/2.8.0 mod_perl/2.0.10 Perl/v5.24.1',\n",
       "       'Apache/2.2.20 (Unix)', 'YouTubeFrontEnd', 'nginx/1.11.2',\n",
       "       'nginx/1.10.0 (Ubuntu)', 'nginx/1.8.1', 'nginx/1.11.10',\n",
       "       'Squeegit/1.2.5 (3_sir)', 'Apache-Coyote/1.1', 'Yippee-Ki-Yay',\n",
       "       'mw2165.codfw.wmnet', 'mw2192.codfw.wmnet',\n",
       "       'Apache/2.2.23 (Amazon)', 'LiteSpeed', 'nginx/1.4.6 (Ubuntu)',\n",
       "       'nginx + Phusion Passenger', 'mw2231.codfw.wmnet',\n",
       "       'openresty/1.11.2.2', 'mw2109.codfw.wmnet', 'Apache/2.4.6',\n",
       "       'nginx/1.10.1', 'mw2225.codfw.wmnet', 'mw2236.codfw.wmnet',\n",
       "       'mw2101.codfw.wmnet', 'Varnish', 'Resin/3.1.8',\n",
       "       'mw2164.codfw.wmnet', 'Microsoft-IIS/8.5', 'nginx/1.6.2',\n",
       "       'mw2242.codfw.wmnet', 'mw2175.codfw.wmnet', 'mw2107.codfw.wmnet',\n",
       "       'mw2190.codfw.wmnet', 'Apache/2.4.6 (CentOS)', 'barista/5.1.3',\n",
       "       'mw2103.codfw.wmnet', 'Apache/2.4.25 (Debian)', 'ECD (fll/0790)',\n",
       "       'Pagely Gateway/1.5.1', 'nginx/1.10.3', 'mw2097.codfw.wmnet',\n",
       "       'mw2233.codfw.wmnet', 'fbs', 'mw2199.codfw.wmnet',\n",
       "       'mw2255.codfw.wmnet', 'mw2228.codfw.wmnet',\n",
       "       'Apache/2.2.31 (Unix) mod_ssl/2.2.31 OpenSSL/1.0.1e-fips mod_bwlimited/1.4 mod_fcgid/2.3.9',\n",
       "       'nginx/1.13.0', 'gunicorn/19.7.1',\n",
       "       'Apache/2.2.31 (Unix) mod_ssl/2.2.31 OpenSSL/0.9.8e-fips-rhel5 mod_bwlimited/1.4',\n",
       "       'mw2241.codfw.wmnet',\n",
       "       'Apache/1.3.33 (Unix) mod_ssl/2.8.24 OpenSSL/0.9.7e-p1 PHP/4.4.8',\n",
       "       'nginx/1.11.3', 'mw2230.codfw.wmnet',\n",
       "       'Apache/2.4.6 (CentOS) OpenSSL/1.0.1e-fips', 'AkamaiGHost',\n",
       "       'mw2240.codfw.wmnet', 'nginx/1.10.2', 'nginx/1.2.1', 'Play',\n",
       "       'mw2185.codfw.wmnet', 'Apache/Not telling (Unix) AuthTDS/1.1',\n",
       "       'Apache/2.2.11 (Unix) PHP/5.2.6', 'nginx/0.8.35',\n",
       "       'mw2182.codfw.wmnet', 'squid/3.3.8', 'Apache/2.2.27 (CentOS)',\n",
       "       'Nginx (OpenBSD)', 'Apache/2.2.31 (Amazon)',\n",
       "       'Apache/2.2.21 (Unix) mod_ssl/2.2.21 OpenSSL/0.9.8e-fips-rhel5 PHP/5.3.10',\n",
       "       'mw2104.codfw.wmnet',\n",
       "       'Apache/2.4.25 (cPanel) OpenSSL/1.0.1e-fips mod_bwlimited/1.4',\n",
       "       '.V01 Apache', 'mw2110.codfw.wmnet',\n",
       "       'Apache/2.4.6 (Unix) mod_jk/1.2.37 PHP/5.5.1 OpenSSL/1.0.1g mod_fcgid/2.3.9',\n",
       "       'mw2176.codfw.wmnet', 'mw2187.codfw.wmnet', 'mw2106.codfw.wmnet',\n",
       "       'Apache/1.3.42 Ben-SSL/1.60 (Unix) mod_gzip/1.3.26.1a mod_fastcgi/2.4.6 mod_throttle/3.1.2 Chili!Soft-ASP/3.6.2 FrontPage/5.0.2.2635 mod_perl/1.31 PHP/4.4.9',\n",
       "       'Aeria Games & Entertainment',\n",
       "       'Apache/2.4.10 (Debian) PHP/5.6.30-0+deb8u1 mod_perl/2.0.9dev Perl/v5.20.2',\n",
       "       'mw2173.codfw.wmnet',\n",
       "       'Apache/2.2.15 (CentOS) DAV/2 mod_ssl/2.2.15 OpenSSL/1.0.1e-fips PHP/5.3.3',\n",
       "       'Apache/2.4.6 (CentOS) OpenSSL/1.0.1e-fips PHP/7.0.14',\n",
       "       'Microsoft-IIS/7.0', 'mw2198.codfw.wmnet',\n",
       "       'nginx/1.6.3 + Phusion Passenger',\n",
       "       'Apache/2.4.6 (CentOS) OpenSSL/1.0.1e-fips PHP/5.4.16',\n",
       "       'mw2172.codfw.wmnet', 'nginx/1.2.6',\n",
       "       'Apache/2.4.6 (Unix) mod_jk/1.2.37', 'nginx/1.4.4', 'Cowboy',\n",
       "       'mw2113.codfw.wmnet',\n",
       "       'Apache/2.2.14 (Unix) mod_ssl/2.2.14 OpenSSL/0.9.8a',\n",
       "       'Apache/2.4.10 (Ubuntu)', 'mw2224.codfw.wmnet',\n",
       "       'mw2171.codfw.wmnet', 'mw2257.codfw.wmnet', 'mw2226.codfw.wmnet',\n",
       "       'nginx/1.6.3', 'Application-Server', 'mw2177.codfw.wmnet',\n",
       "       'mw2197.codfw.wmnet',\n",
       "       'Apache/2.2.26 (Unix) mod_ssl/2.2.26 OpenSSL/1.0.1e-fips DAV/2 mod_bwlimited/1.4',\n",
       "       'mw2178.codfw.wmnet', 'Microsoft-IIS/6.0', 'nginx/1.7.4',\n",
       "       'Apache/2.2.22 (Debian) mod_python/3.3.1 Python/2.7.3 mod_ssl/2.2.22 OpenSSL/1.0.1t',\n",
       "       'Apache/2.4.16 (Ubuntu)',\n",
       "       'Apache/2.2.26 (Unix) mod_ssl/2.2.26 OpenSSL/0.9.8e-fips-rhel5 mod_bwlimited/1.4 PHP/5.4.26',\n",
       "       'www.lexisnexis.com  9999', 'nginx/0.8.38', 'mw2238.codfw.wmnet',\n",
       "       'Pizza/pepperoni', 'MI', 'Roxen/5.4.98-r2', 'nginx/1.9.13',\n",
       "       'mw2180.codfw.wmnet', 'Apache/2.2.14 (Ubuntu)', 'ebay server',\n",
       "       'nginx/0.8.55', 'nginx/1.7.12',\n",
       "       'Apache/2.0.63 (Unix) mod_ssl/2.0.63 OpenSSL/0.9.8e-fips-rhel5 mod_auth_passthrough/2.1 mod_bwlimited/1.4 PHP/5.3.6',\n",
       "       'Boston.com Frontend', 'My Arse', 'IdeaWebServer/v0.80',\n",
       "       'Apache/2.4.17 (Unix) OpenSSL/1.0.1e-fips PHP/5.6.19',\n",
       "       'Microsoft-IIS/7.5; litigation_essentials.lexisnexis.com  9999',\n",
       "       'Apache/2.2.16 (Debian)'], dtype=object)"
      ]
     },
     "execution_count": 30,
     "metadata": {},
     "output_type": "execute_result"
    }
   ],
   "source": [
    "websites[\"SERVER\"].unique()"
   ]
  },
  {
   "cell_type": "markdown",
   "metadata": {},
   "source": [
    "![Think Hard](../think-hard.jpg)"
   ]
  },
  {
   "cell_type": "code",
   "execution_count": 31,
   "metadata": {},
   "outputs": [],
   "source": [
    "# The most recurrent server name are Apache, Microsoft and nginx\n"
   ]
  },
  {
   "cell_type": "markdown",
   "metadata": {},
   "source": [
    "Although there are so many unique values in the `SERVER` column, there are actually only 3 main server types: `Microsoft`, `Apache`, and `nginx`. Just check if each `SERVER` value contains any of those server types and re-label them. For `SERVER` values that don't contain any of those substrings, label with `Other`.\n",
    "\n",
    "At the end, your `SERVER` column should only contain 4 unique values: `Microsoft`, `Apache`, `nginx`, and `Other`."
   ]
  },
  {
   "cell_type": "code",
   "execution_count": 32,
   "metadata": {},
   "outputs": [],
   "source": [
    "def clean_server(st):\n",
    "    if 'Microsoft' in st:\n",
    "        return 'Microsoft'\n",
    "    elif 'Apache' in st:\n",
    "        return 'Apache'\n",
    "    elif 'nginx' in st:\n",
    "        return 'nginx'\n",
    "    else:\n",
    "        return 'Other'\n",
    "\n",
    "websites[\"SERVER\"] = websites[\"SERVER\"].apply(clean_server)"
   ]
  },
  {
   "cell_type": "code",
   "execution_count": 33,
   "metadata": {
    "scrolled": false
   },
   "outputs": [
    {
     "data": {
      "text/plain": [
       "SERVER\n",
       "Apache       491\n",
       "nginx        322\n",
       "Other        300\n",
       "Microsoft    144\n",
       "Name: count, dtype: int64"
      ]
     },
     "execution_count": 33,
     "metadata": {},
     "output_type": "execute_result"
    }
   ],
   "source": [
    "websites[\"SERVER\"].value_counts()"
   ]
  },
  {
   "cell_type": "markdown",
   "metadata": {},
   "source": [
    "OK, all our categorical data are fixed now. **Let's convert them to ordinal data using Pandas' `get_dummies` function ([documentation](https://pandas.pydata.org/pandas-docs/stable/generated/pandas.get_dummies.html)).** Make sure you drop the categorical columns by passing `drop_first=True` to `get_dummies` as we don't need them any more. **Also, assign the data with dummy values to a new variable `website_dummy`.**"
   ]
  },
  {
   "cell_type": "code",
   "execution_count": 34,
   "metadata": {},
   "outputs": [
    {
     "data": {
      "text/html": [
       "<div>\n",
       "<style scoped>\n",
       "    .dataframe tbody tr th:only-of-type {\n",
       "        vertical-align: middle;\n",
       "    }\n",
       "\n",
       "    .dataframe tbody tr th {\n",
       "        vertical-align: top;\n",
       "    }\n",
       "\n",
       "    .dataframe thead th {\n",
       "        text-align: right;\n",
       "    }\n",
       "</style>\n",
       "<table border=\"1\" class=\"dataframe\">\n",
       "  <thead>\n",
       "    <tr style=\"text-align: right;\">\n",
       "      <th></th>\n",
       "      <th>URL_LENGTH</th>\n",
       "      <th>NUMBER_SPECIAL_CHARACTERS</th>\n",
       "      <th>TCP_CONVERSATION_EXCHANGE</th>\n",
       "      <th>DIST_REMOTE_TCP_PORT</th>\n",
       "      <th>REMOTE_IPS</th>\n",
       "      <th>APP_BYTES</th>\n",
       "      <th>SOURCE_APP_BYTES</th>\n",
       "      <th>DNS_QUERY_TIMES</th>\n",
       "      <th>Type</th>\n",
       "      <th>CHARSET_US-ASCII</th>\n",
       "      <th>...</th>\n",
       "      <th>SERVER_nginx</th>\n",
       "      <th>WHOIS_COUNTRY_CA</th>\n",
       "      <th>WHOIS_COUNTRY_CN</th>\n",
       "      <th>WHOIS_COUNTRY_CZ</th>\n",
       "      <th>WHOIS_COUNTRY_ES</th>\n",
       "      <th>WHOIS_COUNTRY_IN</th>\n",
       "      <th>WHOIS_COUNTRY_JP</th>\n",
       "      <th>WHOIS_COUNTRY_OTHER</th>\n",
       "      <th>WHOIS_COUNTRY_PA</th>\n",
       "      <th>WHOIS_COUNTRY_US</th>\n",
       "    </tr>\n",
       "  </thead>\n",
       "  <tbody>\n",
       "    <tr>\n",
       "      <th>3</th>\n",
       "      <td>17</td>\n",
       "      <td>6</td>\n",
       "      <td>31</td>\n",
       "      <td>22</td>\n",
       "      <td>3</td>\n",
       "      <td>3812</td>\n",
       "      <td>18784</td>\n",
       "      <td>8.0</td>\n",
       "      <td>0</td>\n",
       "      <td>False</td>\n",
       "      <td>...</td>\n",
       "      <td>True</td>\n",
       "      <td>False</td>\n",
       "      <td>False</td>\n",
       "      <td>False</td>\n",
       "      <td>False</td>\n",
       "      <td>False</td>\n",
       "      <td>False</td>\n",
       "      <td>False</td>\n",
       "      <td>False</td>\n",
       "      <td>True</td>\n",
       "    </tr>\n",
       "    <tr>\n",
       "      <th>5</th>\n",
       "      <td>18</td>\n",
       "      <td>7</td>\n",
       "      <td>11</td>\n",
       "      <td>6</td>\n",
       "      <td>9</td>\n",
       "      <td>894</td>\n",
       "      <td>838</td>\n",
       "      <td>0.0</td>\n",
       "      <td>0</td>\n",
       "      <td>False</td>\n",
       "      <td>...</td>\n",
       "      <td>True</td>\n",
       "      <td>False</td>\n",
       "      <td>False</td>\n",
       "      <td>False</td>\n",
       "      <td>False</td>\n",
       "      <td>False</td>\n",
       "      <td>False</td>\n",
       "      <td>True</td>\n",
       "      <td>False</td>\n",
       "      <td>False</td>\n",
       "    </tr>\n",
       "    <tr>\n",
       "      <th>6</th>\n",
       "      <td>18</td>\n",
       "      <td>6</td>\n",
       "      <td>12</td>\n",
       "      <td>0</td>\n",
       "      <td>3</td>\n",
       "      <td>1189</td>\n",
       "      <td>8559</td>\n",
       "      <td>2.0</td>\n",
       "      <td>0</td>\n",
       "      <td>False</td>\n",
       "      <td>...</td>\n",
       "      <td>False</td>\n",
       "      <td>False</td>\n",
       "      <td>False</td>\n",
       "      <td>False</td>\n",
       "      <td>False</td>\n",
       "      <td>False</td>\n",
       "      <td>False</td>\n",
       "      <td>False</td>\n",
       "      <td>False</td>\n",
       "      <td>True</td>\n",
       "    </tr>\n",
       "    <tr>\n",
       "      <th>7</th>\n",
       "      <td>19</td>\n",
       "      <td>6</td>\n",
       "      <td>0</td>\n",
       "      <td>0</td>\n",
       "      <td>0</td>\n",
       "      <td>0</td>\n",
       "      <td>0</td>\n",
       "      <td>0.0</td>\n",
       "      <td>0</td>\n",
       "      <td>True</td>\n",
       "      <td>...</td>\n",
       "      <td>False</td>\n",
       "      <td>False</td>\n",
       "      <td>False</td>\n",
       "      <td>False</td>\n",
       "      <td>False</td>\n",
       "      <td>False</td>\n",
       "      <td>False</td>\n",
       "      <td>False</td>\n",
       "      <td>False</td>\n",
       "      <td>True</td>\n",
       "    </tr>\n",
       "    <tr>\n",
       "      <th>10</th>\n",
       "      <td>20</td>\n",
       "      <td>6</td>\n",
       "      <td>0</td>\n",
       "      <td>0</td>\n",
       "      <td>0</td>\n",
       "      <td>0</td>\n",
       "      <td>0</td>\n",
       "      <td>0.0</td>\n",
       "      <td>0</td>\n",
       "      <td>False</td>\n",
       "      <td>...</td>\n",
       "      <td>False</td>\n",
       "      <td>False</td>\n",
       "      <td>False</td>\n",
       "      <td>False</td>\n",
       "      <td>False</td>\n",
       "      <td>False</td>\n",
       "      <td>False</td>\n",
       "      <td>False</td>\n",
       "      <td>False</td>\n",
       "      <td>True</td>\n",
       "    </tr>\n",
       "    <tr>\n",
       "      <th>...</th>\n",
       "      <td>...</td>\n",
       "      <td>...</td>\n",
       "      <td>...</td>\n",
       "      <td>...</td>\n",
       "      <td>...</td>\n",
       "      <td>...</td>\n",
       "      <td>...</td>\n",
       "      <td>...</td>\n",
       "      <td>...</td>\n",
       "      <td>...</td>\n",
       "      <td>...</td>\n",
       "      <td>...</td>\n",
       "      <td>...</td>\n",
       "      <td>...</td>\n",
       "      <td>...</td>\n",
       "      <td>...</td>\n",
       "      <td>...</td>\n",
       "      <td>...</td>\n",
       "      <td>...</td>\n",
       "      <td>...</td>\n",
       "      <td>...</td>\n",
       "    </tr>\n",
       "    <tr>\n",
       "      <th>1776</th>\n",
       "      <td>194</td>\n",
       "      <td>16</td>\n",
       "      <td>0</td>\n",
       "      <td>0</td>\n",
       "      <td>0</td>\n",
       "      <td>0</td>\n",
       "      <td>186</td>\n",
       "      <td>0.0</td>\n",
       "      <td>1</td>\n",
       "      <td>False</td>\n",
       "      <td>...</td>\n",
       "      <td>False</td>\n",
       "      <td>False</td>\n",
       "      <td>False</td>\n",
       "      <td>False</td>\n",
       "      <td>True</td>\n",
       "      <td>False</td>\n",
       "      <td>False</td>\n",
       "      <td>False</td>\n",
       "      <td>False</td>\n",
       "      <td>False</td>\n",
       "    </tr>\n",
       "    <tr>\n",
       "      <th>1777</th>\n",
       "      <td>198</td>\n",
       "      <td>17</td>\n",
       "      <td>0</td>\n",
       "      <td>0</td>\n",
       "      <td>0</td>\n",
       "      <td>0</td>\n",
       "      <td>124</td>\n",
       "      <td>0.0</td>\n",
       "      <td>1</td>\n",
       "      <td>False</td>\n",
       "      <td>...</td>\n",
       "      <td>False</td>\n",
       "      <td>False</td>\n",
       "      <td>False</td>\n",
       "      <td>False</td>\n",
       "      <td>True</td>\n",
       "      <td>False</td>\n",
       "      <td>False</td>\n",
       "      <td>False</td>\n",
       "      <td>False</td>\n",
       "      <td>False</td>\n",
       "    </tr>\n",
       "    <tr>\n",
       "      <th>1778</th>\n",
       "      <td>201</td>\n",
       "      <td>34</td>\n",
       "      <td>83</td>\n",
       "      <td>2</td>\n",
       "      <td>6</td>\n",
       "      <td>6631</td>\n",
       "      <td>132181</td>\n",
       "      <td>4.0</td>\n",
       "      <td>0</td>\n",
       "      <td>False</td>\n",
       "      <td>...</td>\n",
       "      <td>False</td>\n",
       "      <td>False</td>\n",
       "      <td>False</td>\n",
       "      <td>False</td>\n",
       "      <td>False</td>\n",
       "      <td>False</td>\n",
       "      <td>False</td>\n",
       "      <td>False</td>\n",
       "      <td>False</td>\n",
       "      <td>True</td>\n",
       "    </tr>\n",
       "    <tr>\n",
       "      <th>1779</th>\n",
       "      <td>234</td>\n",
       "      <td>34</td>\n",
       "      <td>0</td>\n",
       "      <td>0</td>\n",
       "      <td>0</td>\n",
       "      <td>0</td>\n",
       "      <td>0</td>\n",
       "      <td>0.0</td>\n",
       "      <td>0</td>\n",
       "      <td>False</td>\n",
       "      <td>...</td>\n",
       "      <td>True</td>\n",
       "      <td>False</td>\n",
       "      <td>False</td>\n",
       "      <td>False</td>\n",
       "      <td>False</td>\n",
       "      <td>False</td>\n",
       "      <td>False</td>\n",
       "      <td>False</td>\n",
       "      <td>False</td>\n",
       "      <td>True</td>\n",
       "    </tr>\n",
       "    <tr>\n",
       "      <th>1780</th>\n",
       "      <td>249</td>\n",
       "      <td>40</td>\n",
       "      <td>19</td>\n",
       "      <td>6</td>\n",
       "      <td>11</td>\n",
       "      <td>2314</td>\n",
       "      <td>3039</td>\n",
       "      <td>6.0</td>\n",
       "      <td>0</td>\n",
       "      <td>False</td>\n",
       "      <td>...</td>\n",
       "      <td>False</td>\n",
       "      <td>False</td>\n",
       "      <td>False</td>\n",
       "      <td>False</td>\n",
       "      <td>False</td>\n",
       "      <td>False</td>\n",
       "      <td>False</td>\n",
       "      <td>False</td>\n",
       "      <td>False</td>\n",
       "      <td>True</td>\n",
       "    </tr>\n",
       "  </tbody>\n",
       "</table>\n",
       "<p>1257 rows × 25 columns</p>\n",
       "</div>"
      ],
      "text/plain": [
       "      URL_LENGTH  NUMBER_SPECIAL_CHARACTERS  TCP_CONVERSATION_EXCHANGE  \\\n",
       "3             17                          6                         31   \n",
       "5             18                          7                         11   \n",
       "6             18                          6                         12   \n",
       "7             19                          6                          0   \n",
       "10            20                          6                          0   \n",
       "...          ...                        ...                        ...   \n",
       "1776         194                         16                          0   \n",
       "1777         198                         17                          0   \n",
       "1778         201                         34                         83   \n",
       "1779         234                         34                          0   \n",
       "1780         249                         40                         19   \n",
       "\n",
       "      DIST_REMOTE_TCP_PORT  REMOTE_IPS  APP_BYTES  SOURCE_APP_BYTES  \\\n",
       "3                       22           3       3812             18784   \n",
       "5                        6           9        894               838   \n",
       "6                        0           3       1189              8559   \n",
       "7                        0           0          0                 0   \n",
       "10                       0           0          0                 0   \n",
       "...                    ...         ...        ...               ...   \n",
       "1776                     0           0          0               186   \n",
       "1777                     0           0          0               124   \n",
       "1778                     2           6       6631            132181   \n",
       "1779                     0           0          0                 0   \n",
       "1780                     6          11       2314              3039   \n",
       "\n",
       "      DNS_QUERY_TIMES  Type  CHARSET_US-ASCII  ...  SERVER_nginx  \\\n",
       "3                 8.0     0             False  ...          True   \n",
       "5                 0.0     0             False  ...          True   \n",
       "6                 2.0     0             False  ...         False   \n",
       "7                 0.0     0              True  ...         False   \n",
       "10                0.0     0             False  ...         False   \n",
       "...               ...   ...               ...  ...           ...   \n",
       "1776              0.0     1             False  ...         False   \n",
       "1777              0.0     1             False  ...         False   \n",
       "1778              4.0     0             False  ...         False   \n",
       "1779              0.0     0             False  ...          True   \n",
       "1780              6.0     0             False  ...         False   \n",
       "\n",
       "      WHOIS_COUNTRY_CA  WHOIS_COUNTRY_CN  WHOIS_COUNTRY_CZ  WHOIS_COUNTRY_ES  \\\n",
       "3                False             False             False             False   \n",
       "5                False             False             False             False   \n",
       "6                False             False             False             False   \n",
       "7                False             False             False             False   \n",
       "10               False             False             False             False   \n",
       "...                ...               ...               ...               ...   \n",
       "1776             False             False             False              True   \n",
       "1777             False             False             False              True   \n",
       "1778             False             False             False             False   \n",
       "1779             False             False             False             False   \n",
       "1780             False             False             False             False   \n",
       "\n",
       "      WHOIS_COUNTRY_IN  WHOIS_COUNTRY_JP  WHOIS_COUNTRY_OTHER  \\\n",
       "3                False             False                False   \n",
       "5                False             False                 True   \n",
       "6                False             False                False   \n",
       "7                False             False                False   \n",
       "10               False             False                False   \n",
       "...                ...               ...                  ...   \n",
       "1776             False             False                False   \n",
       "1777             False             False                False   \n",
       "1778             False             False                False   \n",
       "1779             False             False                False   \n",
       "1780             False             False                False   \n",
       "\n",
       "      WHOIS_COUNTRY_PA  WHOIS_COUNTRY_US  \n",
       "3                False              True  \n",
       "5                False             False  \n",
       "6                False              True  \n",
       "7                False              True  \n",
       "10               False              True  \n",
       "...                ...               ...  \n",
       "1776             False             False  \n",
       "1777             False             False  \n",
       "1778             False              True  \n",
       "1779             False              True  \n",
       "1780             False              True  \n",
       "\n",
       "[1257 rows x 25 columns]"
      ]
     },
     "execution_count": 34,
     "metadata": {},
     "output_type": "execute_result"
    }
   ],
   "source": [
    "website_dummy = pd.get_dummies(websites,drop_first=True)\n",
    "website_dummy"
   ]
  },
  {
   "cell_type": "markdown",
   "metadata": {},
   "source": [
    "Now, inspect `website_dummy` to make sure the data and types are intended - there shouldn't be any categorical columns at this point."
   ]
  },
  {
   "cell_type": "code",
   "execution_count": 35,
   "metadata": {},
   "outputs": [
    {
     "name": "stdout",
     "output_type": "stream",
     "text": [
      "<class 'pandas.core.frame.DataFrame'>\n",
      "Index: 1257 entries, 3 to 1780\n",
      "Data columns (total 25 columns):\n",
      " #   Column                     Non-Null Count  Dtype  \n",
      "---  ------                     --------------  -----  \n",
      " 0   URL_LENGTH                 1257 non-null   int64  \n",
      " 1   NUMBER_SPECIAL_CHARACTERS  1257 non-null   int64  \n",
      " 2   TCP_CONVERSATION_EXCHANGE  1257 non-null   int64  \n",
      " 3   DIST_REMOTE_TCP_PORT       1257 non-null   int64  \n",
      " 4   REMOTE_IPS                 1257 non-null   int64  \n",
      " 5   APP_BYTES                  1257 non-null   int64  \n",
      " 6   SOURCE_APP_BYTES           1257 non-null   int64  \n",
      " 7   DNS_QUERY_TIMES            1257 non-null   float64\n",
      " 8   Type                       1257 non-null   int64  \n",
      " 9   CHARSET_US-ASCII           1257 non-null   bool   \n",
      " 10  CHARSET_UTF-8              1257 non-null   bool   \n",
      " 11  CHARSET_WINDOWS-1251       1257 non-null   bool   \n",
      " 12  CHARSET_WINDOWS-1252       1257 non-null   bool   \n",
      " 13  SERVER_Microsoft           1257 non-null   bool   \n",
      " 14  SERVER_Other               1257 non-null   bool   \n",
      " 15  SERVER_nginx               1257 non-null   bool   \n",
      " 16  WHOIS_COUNTRY_CA           1257 non-null   bool   \n",
      " 17  WHOIS_COUNTRY_CN           1257 non-null   bool   \n",
      " 18  WHOIS_COUNTRY_CZ           1257 non-null   bool   \n",
      " 19  WHOIS_COUNTRY_ES           1257 non-null   bool   \n",
      " 20  WHOIS_COUNTRY_IN           1257 non-null   bool   \n",
      " 21  WHOIS_COUNTRY_JP           1257 non-null   bool   \n",
      " 22  WHOIS_COUNTRY_OTHER        1257 non-null   bool   \n",
      " 23  WHOIS_COUNTRY_PA           1257 non-null   bool   \n",
      " 24  WHOIS_COUNTRY_US           1257 non-null   bool   \n",
      "dtypes: bool(16), float64(1), int64(8)\n",
      "memory usage: 117.8 KB\n"
     ]
    }
   ],
   "source": [
    "website_dummy.info()"
   ]
  },
  {
   "cell_type": "markdown",
   "metadata": {},
   "source": [
    "# Challenge 6 - Modeling, Prediction, and Evaluation\n",
    "\n",
    "We'll start off this section by splitting the data to train and test. **Name your 4 variables `X_train`, `X_test`, `y_train`, and `y_test`. Select 80% of the data for training and 20% for testing.**"
   ]
  },
  {
   "cell_type": "code",
   "execution_count": 36,
   "metadata": {},
   "outputs": [],
   "source": [
    "from sklearn.model_selection import train_test_split\n",
    "\n",
    "X = website_dummy.drop(\"Type\", axis=1)\n",
    "y = website_dummy[\"Type\"]\n",
    "\n",
    "X_train, X_test, y_train, y_test = train_test_split(X, y, test_size=0.2)"
   ]
  },
  {
   "cell_type": "markdown",
   "metadata": {},
   "source": [
    "#### In this lab, we will try two different models and compare our results.\n",
    "\n",
    "The first model we will use in this lab is logistic regression. We have previously learned about logistic regression as a classification algorithm. In the cell below, load `LogisticRegression` from scikit-learn and initialize the model."
   ]
  },
  {
   "cell_type": "code",
   "execution_count": 37,
   "metadata": {},
   "outputs": [],
   "source": [
    "from sklearn.linear_model import LogisticRegression\n",
    "\n",
    "log_r = LogisticRegression()\n"
   ]
  },
  {
   "cell_type": "markdown",
   "metadata": {},
   "source": [
    "Next, fit the model to our training data. We have already separated our data into 4 parts. Use those in your model."
   ]
  },
  {
   "cell_type": "code",
   "execution_count": 38,
   "metadata": {},
   "outputs": [
    {
     "name": "stderr",
     "output_type": "stream",
     "text": [
      "C:\\Users\\lucia\\miniconda3\\envs\\ironhack\\Lib\\site-packages\\sklearn\\linear_model\\_logistic.py:460: ConvergenceWarning: lbfgs failed to converge (status=1):\n",
      "STOP: TOTAL NO. of ITERATIONS REACHED LIMIT.\n",
      "\n",
      "Increase the number of iterations (max_iter) or scale the data as shown in:\n",
      "    https://scikit-learn.org/stable/modules/preprocessing.html\n",
      "Please also refer to the documentation for alternative solver options:\n",
      "    https://scikit-learn.org/stable/modules/linear_model.html#logistic-regression\n",
      "  n_iter_i = _check_optimize_result(\n"
     ]
    },
    {
     "data": {
      "text/html": [
       "<style>#sk-container-id-1 {color: black;}#sk-container-id-1 pre{padding: 0;}#sk-container-id-1 div.sk-toggleable {background-color: white;}#sk-container-id-1 label.sk-toggleable__label {cursor: pointer;display: block;width: 100%;margin-bottom: 0;padding: 0.3em;box-sizing: border-box;text-align: center;}#sk-container-id-1 label.sk-toggleable__label-arrow:before {content: \"▸\";float: left;margin-right: 0.25em;color: #696969;}#sk-container-id-1 label.sk-toggleable__label-arrow:hover:before {color: black;}#sk-container-id-1 div.sk-estimator:hover label.sk-toggleable__label-arrow:before {color: black;}#sk-container-id-1 div.sk-toggleable__content {max-height: 0;max-width: 0;overflow: hidden;text-align: left;background-color: #f0f8ff;}#sk-container-id-1 div.sk-toggleable__content pre {margin: 0.2em;color: black;border-radius: 0.25em;background-color: #f0f8ff;}#sk-container-id-1 input.sk-toggleable__control:checked~div.sk-toggleable__content {max-height: 200px;max-width: 100%;overflow: auto;}#sk-container-id-1 input.sk-toggleable__control:checked~label.sk-toggleable__label-arrow:before {content: \"▾\";}#sk-container-id-1 div.sk-estimator input.sk-toggleable__control:checked~label.sk-toggleable__label {background-color: #d4ebff;}#sk-container-id-1 div.sk-label input.sk-toggleable__control:checked~label.sk-toggleable__label {background-color: #d4ebff;}#sk-container-id-1 input.sk-hidden--visually {border: 0;clip: rect(1px 1px 1px 1px);clip: rect(1px, 1px, 1px, 1px);height: 1px;margin: -1px;overflow: hidden;padding: 0;position: absolute;width: 1px;}#sk-container-id-1 div.sk-estimator {font-family: monospace;background-color: #f0f8ff;border: 1px dotted black;border-radius: 0.25em;box-sizing: border-box;margin-bottom: 0.5em;}#sk-container-id-1 div.sk-estimator:hover {background-color: #d4ebff;}#sk-container-id-1 div.sk-parallel-item::after {content: \"\";width: 100%;border-bottom: 1px solid gray;flex-grow: 1;}#sk-container-id-1 div.sk-label:hover label.sk-toggleable__label {background-color: #d4ebff;}#sk-container-id-1 div.sk-serial::before {content: \"\";position: absolute;border-left: 1px solid gray;box-sizing: border-box;top: 0;bottom: 0;left: 50%;z-index: 0;}#sk-container-id-1 div.sk-serial {display: flex;flex-direction: column;align-items: center;background-color: white;padding-right: 0.2em;padding-left: 0.2em;position: relative;}#sk-container-id-1 div.sk-item {position: relative;z-index: 1;}#sk-container-id-1 div.sk-parallel {display: flex;align-items: stretch;justify-content: center;background-color: white;position: relative;}#sk-container-id-1 div.sk-item::before, #sk-container-id-1 div.sk-parallel-item::before {content: \"\";position: absolute;border-left: 1px solid gray;box-sizing: border-box;top: 0;bottom: 0;left: 50%;z-index: -1;}#sk-container-id-1 div.sk-parallel-item {display: flex;flex-direction: column;z-index: 1;position: relative;background-color: white;}#sk-container-id-1 div.sk-parallel-item:first-child::after {align-self: flex-end;width: 50%;}#sk-container-id-1 div.sk-parallel-item:last-child::after {align-self: flex-start;width: 50%;}#sk-container-id-1 div.sk-parallel-item:only-child::after {width: 0;}#sk-container-id-1 div.sk-dashed-wrapped {border: 1px dashed gray;margin: 0 0.4em 0.5em 0.4em;box-sizing: border-box;padding-bottom: 0.4em;background-color: white;}#sk-container-id-1 div.sk-label label {font-family: monospace;font-weight: bold;display: inline-block;line-height: 1.2em;}#sk-container-id-1 div.sk-label-container {text-align: center;}#sk-container-id-1 div.sk-container {/* jupyter's `normalize.less` sets `[hidden] { display: none; }` but bootstrap.min.css set `[hidden] { display: none !important; }` so we also need the `!important` here to be able to override the default hidden behavior on the sphinx rendered scikit-learn.org. See: https://github.com/scikit-learn/scikit-learn/issues/21755 */display: inline-block !important;position: relative;}#sk-container-id-1 div.sk-text-repr-fallback {display: none;}</style><div id=\"sk-container-id-1\" class=\"sk-top-container\"><div class=\"sk-text-repr-fallback\"><pre>LogisticRegression()</pre><b>In a Jupyter environment, please rerun this cell to show the HTML representation or trust the notebook. <br />On GitHub, the HTML representation is unable to render, please try loading this page with nbviewer.org.</b></div><div class=\"sk-container\" hidden><div class=\"sk-item\"><div class=\"sk-estimator sk-toggleable\"><input class=\"sk-toggleable__control sk-hidden--visually\" id=\"sk-estimator-id-1\" type=\"checkbox\" checked><label for=\"sk-estimator-id-1\" class=\"sk-toggleable__label sk-toggleable__label-arrow\">LogisticRegression</label><div class=\"sk-toggleable__content\"><pre>LogisticRegression()</pre></div></div></div></div></div>"
      ],
      "text/plain": [
       "LogisticRegression()"
      ]
     },
     "execution_count": 38,
     "metadata": {},
     "output_type": "execute_result"
    }
   ],
   "source": [
    "log_r.fit(X_train,y_train)"
   ]
  },
  {
   "cell_type": "markdown",
   "metadata": {},
   "source": [
    "finally, import `confusion_matrix` and `accuracy_score` from `sklearn.metrics` and fit our testing data. Assign the fitted data to `y_pred` and print the confusion matrix as well as the accuracy score"
   ]
  },
  {
   "cell_type": "code",
   "execution_count": 39,
   "metadata": {},
   "outputs": [],
   "source": [
    "from sklearn.metrics import confusion_matrix\n",
    " #from sklearn.metrics import precision_score\n",
    "from sklearn.metrics import accuracy_score\n",
    "#from sklearn.metrics import recall_score\n",
    "#from sklearn.metrics import f1_score"
   ]
  },
  {
   "cell_type": "code",
   "execution_count": 40,
   "metadata": {},
   "outputs": [
    {
     "data": {
      "text/plain": [
       "array([[219,  16],\n",
       "       [  8,   9]], dtype=int64)"
      ]
     },
     "execution_count": 40,
     "metadata": {},
     "output_type": "execute_result"
    }
   ],
   "source": [
    "y_pred = log_r.predict(X_test)\n",
    "confusion_matrix(y_pred, y_test)"
   ]
  },
  {
   "cell_type": "code",
   "execution_count": 41,
   "metadata": {},
   "outputs": [
    {
     "name": "stdout",
     "output_type": "stream",
     "text": [
      "Accuracy: 0.9047619047619048\n"
     ]
    }
   ],
   "source": [
    "print(f\"Accuracy: {accuracy_score(y_test, y_pred)}\")"
   ]
  },
  {
   "cell_type": "markdown",
   "metadata": {},
   "source": [
    "What are your thoughts on the performance of the model? Write your conclusions below."
   ]
  },
  {
   "cell_type": "code",
   "execution_count": 42,
   "metadata": {},
   "outputs": [],
   "source": [
    "# Your conclusions here:\n",
    "\n"
   ]
  },
  {
   "cell_type": "markdown",
   "metadata": {},
   "source": [
    "#### Our second algorithm is is DecisionTreeClassifier\n",
    "\n",
    "Though is it not required, we will fit a model using the training data and then test the performance of the model using the testing data. Start by loading `DecisionTreeClassifier` from scikit-learn and then initializing and fitting the model. We'll start off with a model where max_depth=3"
   ]
  },
  {
   "cell_type": "code",
   "execution_count": 43,
   "metadata": {},
   "outputs": [
    {
     "data": {
      "text/html": [
       "<style>#sk-container-id-2 {color: black;}#sk-container-id-2 pre{padding: 0;}#sk-container-id-2 div.sk-toggleable {background-color: white;}#sk-container-id-2 label.sk-toggleable__label {cursor: pointer;display: block;width: 100%;margin-bottom: 0;padding: 0.3em;box-sizing: border-box;text-align: center;}#sk-container-id-2 label.sk-toggleable__label-arrow:before {content: \"▸\";float: left;margin-right: 0.25em;color: #696969;}#sk-container-id-2 label.sk-toggleable__label-arrow:hover:before {color: black;}#sk-container-id-2 div.sk-estimator:hover label.sk-toggleable__label-arrow:before {color: black;}#sk-container-id-2 div.sk-toggleable__content {max-height: 0;max-width: 0;overflow: hidden;text-align: left;background-color: #f0f8ff;}#sk-container-id-2 div.sk-toggleable__content pre {margin: 0.2em;color: black;border-radius: 0.25em;background-color: #f0f8ff;}#sk-container-id-2 input.sk-toggleable__control:checked~div.sk-toggleable__content {max-height: 200px;max-width: 100%;overflow: auto;}#sk-container-id-2 input.sk-toggleable__control:checked~label.sk-toggleable__label-arrow:before {content: \"▾\";}#sk-container-id-2 div.sk-estimator input.sk-toggleable__control:checked~label.sk-toggleable__label {background-color: #d4ebff;}#sk-container-id-2 div.sk-label input.sk-toggleable__control:checked~label.sk-toggleable__label {background-color: #d4ebff;}#sk-container-id-2 input.sk-hidden--visually {border: 0;clip: rect(1px 1px 1px 1px);clip: rect(1px, 1px, 1px, 1px);height: 1px;margin: -1px;overflow: hidden;padding: 0;position: absolute;width: 1px;}#sk-container-id-2 div.sk-estimator {font-family: monospace;background-color: #f0f8ff;border: 1px dotted black;border-radius: 0.25em;box-sizing: border-box;margin-bottom: 0.5em;}#sk-container-id-2 div.sk-estimator:hover {background-color: #d4ebff;}#sk-container-id-2 div.sk-parallel-item::after {content: \"\";width: 100%;border-bottom: 1px solid gray;flex-grow: 1;}#sk-container-id-2 div.sk-label:hover label.sk-toggleable__label {background-color: #d4ebff;}#sk-container-id-2 div.sk-serial::before {content: \"\";position: absolute;border-left: 1px solid gray;box-sizing: border-box;top: 0;bottom: 0;left: 50%;z-index: 0;}#sk-container-id-2 div.sk-serial {display: flex;flex-direction: column;align-items: center;background-color: white;padding-right: 0.2em;padding-left: 0.2em;position: relative;}#sk-container-id-2 div.sk-item {position: relative;z-index: 1;}#sk-container-id-2 div.sk-parallel {display: flex;align-items: stretch;justify-content: center;background-color: white;position: relative;}#sk-container-id-2 div.sk-item::before, #sk-container-id-2 div.sk-parallel-item::before {content: \"\";position: absolute;border-left: 1px solid gray;box-sizing: border-box;top: 0;bottom: 0;left: 50%;z-index: -1;}#sk-container-id-2 div.sk-parallel-item {display: flex;flex-direction: column;z-index: 1;position: relative;background-color: white;}#sk-container-id-2 div.sk-parallel-item:first-child::after {align-self: flex-end;width: 50%;}#sk-container-id-2 div.sk-parallel-item:last-child::after {align-self: flex-start;width: 50%;}#sk-container-id-2 div.sk-parallel-item:only-child::after {width: 0;}#sk-container-id-2 div.sk-dashed-wrapped {border: 1px dashed gray;margin: 0 0.4em 0.5em 0.4em;box-sizing: border-box;padding-bottom: 0.4em;background-color: white;}#sk-container-id-2 div.sk-label label {font-family: monospace;font-weight: bold;display: inline-block;line-height: 1.2em;}#sk-container-id-2 div.sk-label-container {text-align: center;}#sk-container-id-2 div.sk-container {/* jupyter's `normalize.less` sets `[hidden] { display: none; }` but bootstrap.min.css set `[hidden] { display: none !important; }` so we also need the `!important` here to be able to override the default hidden behavior on the sphinx rendered scikit-learn.org. See: https://github.com/scikit-learn/scikit-learn/issues/21755 */display: inline-block !important;position: relative;}#sk-container-id-2 div.sk-text-repr-fallback {display: none;}</style><div id=\"sk-container-id-2\" class=\"sk-top-container\"><div class=\"sk-text-repr-fallback\"><pre>DecisionTreeClassifier(max_depth=3)</pre><b>In a Jupyter environment, please rerun this cell to show the HTML representation or trust the notebook. <br />On GitHub, the HTML representation is unable to render, please try loading this page with nbviewer.org.</b></div><div class=\"sk-container\" hidden><div class=\"sk-item\"><div class=\"sk-estimator sk-toggleable\"><input class=\"sk-toggleable__control sk-hidden--visually\" id=\"sk-estimator-id-2\" type=\"checkbox\" checked><label for=\"sk-estimator-id-2\" class=\"sk-toggleable__label sk-toggleable__label-arrow\">DecisionTreeClassifier</label><div class=\"sk-toggleable__content\"><pre>DecisionTreeClassifier(max_depth=3)</pre></div></div></div></div></div>"
      ],
      "text/plain": [
       "DecisionTreeClassifier(max_depth=3)"
      ]
     },
     "execution_count": 43,
     "metadata": {},
     "output_type": "execute_result"
    }
   ],
   "source": [
    "from sklearn.tree import DecisionTreeClassifier\n",
    "\n",
    "dtc = DecisionTreeClassifier(max_depth=3)\n",
    "dtc.fit(X_train,y_train)"
   ]
  },
  {
   "cell_type": "markdown",
   "metadata": {},
   "source": [
    "To test your model, compute the predicted probabilities, decide 0 or 1 using a threshold of 0.5 and print the confusion matrix as well as the accuracy score (on the test set!)"
   ]
  },
  {
   "cell_type": "code",
   "execution_count": 44,
   "metadata": {},
   "outputs": [],
   "source": [
    "# Your code here:\n",
    "y_probabilities = dtc.predict_proba(X_test)[:, 1]\n",
    "y_predicted = (y_probabilities >= 0.5).astype(int)"
   ]
  },
  {
   "cell_type": "code",
   "execution_count": 45,
   "metadata": {},
   "outputs": [
    {
     "name": "stdout",
     "output_type": "stream",
     "text": [
      "[[227   0]\n",
      " [ 14  11]]\n"
     ]
    }
   ],
   "source": [
    "conf_matrix = confusion_matrix(y_test, y_predicted)\n",
    "print(conf_matrix)"
   ]
  },
  {
   "cell_type": "code",
   "execution_count": 46,
   "metadata": {},
   "outputs": [
    {
     "name": "stdout",
     "output_type": "stream",
     "text": [
      "Accuracy Score: 0.9444444444444444\n"
     ]
    }
   ],
   "source": [
    "accuracy = accuracy_score(y_test, y_predicted)\n",
    "print(\"Accuracy Score:\", accuracy)"
   ]
  },
  {
   "cell_type": "markdown",
   "metadata": {},
   "source": [
    "#### We'll create another DecisionTreeClassifier model with max_depth=5. \n",
    "Initialize and fit the model below and print the confusion matrix and the accuracy score."
   ]
  },
  {
   "cell_type": "code",
   "execution_count": 47,
   "metadata": {},
   "outputs": [
    {
     "data": {
      "text/html": [
       "<style>#sk-container-id-3 {color: black;}#sk-container-id-3 pre{padding: 0;}#sk-container-id-3 div.sk-toggleable {background-color: white;}#sk-container-id-3 label.sk-toggleable__label {cursor: pointer;display: block;width: 100%;margin-bottom: 0;padding: 0.3em;box-sizing: border-box;text-align: center;}#sk-container-id-3 label.sk-toggleable__label-arrow:before {content: \"▸\";float: left;margin-right: 0.25em;color: #696969;}#sk-container-id-3 label.sk-toggleable__label-arrow:hover:before {color: black;}#sk-container-id-3 div.sk-estimator:hover label.sk-toggleable__label-arrow:before {color: black;}#sk-container-id-3 div.sk-toggleable__content {max-height: 0;max-width: 0;overflow: hidden;text-align: left;background-color: #f0f8ff;}#sk-container-id-3 div.sk-toggleable__content pre {margin: 0.2em;color: black;border-radius: 0.25em;background-color: #f0f8ff;}#sk-container-id-3 input.sk-toggleable__control:checked~div.sk-toggleable__content {max-height: 200px;max-width: 100%;overflow: auto;}#sk-container-id-3 input.sk-toggleable__control:checked~label.sk-toggleable__label-arrow:before {content: \"▾\";}#sk-container-id-3 div.sk-estimator input.sk-toggleable__control:checked~label.sk-toggleable__label {background-color: #d4ebff;}#sk-container-id-3 div.sk-label input.sk-toggleable__control:checked~label.sk-toggleable__label {background-color: #d4ebff;}#sk-container-id-3 input.sk-hidden--visually {border: 0;clip: rect(1px 1px 1px 1px);clip: rect(1px, 1px, 1px, 1px);height: 1px;margin: -1px;overflow: hidden;padding: 0;position: absolute;width: 1px;}#sk-container-id-3 div.sk-estimator {font-family: monospace;background-color: #f0f8ff;border: 1px dotted black;border-radius: 0.25em;box-sizing: border-box;margin-bottom: 0.5em;}#sk-container-id-3 div.sk-estimator:hover {background-color: #d4ebff;}#sk-container-id-3 div.sk-parallel-item::after {content: \"\";width: 100%;border-bottom: 1px solid gray;flex-grow: 1;}#sk-container-id-3 div.sk-label:hover label.sk-toggleable__label {background-color: #d4ebff;}#sk-container-id-3 div.sk-serial::before {content: \"\";position: absolute;border-left: 1px solid gray;box-sizing: border-box;top: 0;bottom: 0;left: 50%;z-index: 0;}#sk-container-id-3 div.sk-serial {display: flex;flex-direction: column;align-items: center;background-color: white;padding-right: 0.2em;padding-left: 0.2em;position: relative;}#sk-container-id-3 div.sk-item {position: relative;z-index: 1;}#sk-container-id-3 div.sk-parallel {display: flex;align-items: stretch;justify-content: center;background-color: white;position: relative;}#sk-container-id-3 div.sk-item::before, #sk-container-id-3 div.sk-parallel-item::before {content: \"\";position: absolute;border-left: 1px solid gray;box-sizing: border-box;top: 0;bottom: 0;left: 50%;z-index: -1;}#sk-container-id-3 div.sk-parallel-item {display: flex;flex-direction: column;z-index: 1;position: relative;background-color: white;}#sk-container-id-3 div.sk-parallel-item:first-child::after {align-self: flex-end;width: 50%;}#sk-container-id-3 div.sk-parallel-item:last-child::after {align-self: flex-start;width: 50%;}#sk-container-id-3 div.sk-parallel-item:only-child::after {width: 0;}#sk-container-id-3 div.sk-dashed-wrapped {border: 1px dashed gray;margin: 0 0.4em 0.5em 0.4em;box-sizing: border-box;padding-bottom: 0.4em;background-color: white;}#sk-container-id-3 div.sk-label label {font-family: monospace;font-weight: bold;display: inline-block;line-height: 1.2em;}#sk-container-id-3 div.sk-label-container {text-align: center;}#sk-container-id-3 div.sk-container {/* jupyter's `normalize.less` sets `[hidden] { display: none; }` but bootstrap.min.css set `[hidden] { display: none !important; }` so we also need the `!important` here to be able to override the default hidden behavior on the sphinx rendered scikit-learn.org. See: https://github.com/scikit-learn/scikit-learn/issues/21755 */display: inline-block !important;position: relative;}#sk-container-id-3 div.sk-text-repr-fallback {display: none;}</style><div id=\"sk-container-id-3\" class=\"sk-top-container\"><div class=\"sk-text-repr-fallback\"><pre>DecisionTreeClassifier(max_depth=5)</pre><b>In a Jupyter environment, please rerun this cell to show the HTML representation or trust the notebook. <br />On GitHub, the HTML representation is unable to render, please try loading this page with nbviewer.org.</b></div><div class=\"sk-container\" hidden><div class=\"sk-item\"><div class=\"sk-estimator sk-toggleable\"><input class=\"sk-toggleable__control sk-hidden--visually\" id=\"sk-estimator-id-3\" type=\"checkbox\" checked><label for=\"sk-estimator-id-3\" class=\"sk-toggleable__label sk-toggleable__label-arrow\">DecisionTreeClassifier</label><div class=\"sk-toggleable__content\"><pre>DecisionTreeClassifier(max_depth=5)</pre></div></div></div></div></div>"
      ],
      "text/plain": [
       "DecisionTreeClassifier(max_depth=5)"
      ]
     },
     "execution_count": 47,
     "metadata": {},
     "output_type": "execute_result"
    }
   ],
   "source": [
    "dtc = DecisionTreeClassifier(max_depth=5)\n",
    "dtc.fit(X_train,y_train)"
   ]
  },
  {
   "cell_type": "code",
   "execution_count": 48,
   "metadata": {},
   "outputs": [],
   "source": [
    "y_probabilities = dtc.predict_proba(X_test)[:, 1]\n",
    "y_predicted = (y_probabilities >= 0.5).astype(int)"
   ]
  },
  {
   "cell_type": "code",
   "execution_count": 49,
   "metadata": {},
   "outputs": [
    {
     "name": "stdout",
     "output_type": "stream",
     "text": [
      "[[226   1]\n",
      " [ 13  12]]\n"
     ]
    }
   ],
   "source": [
    "conf_matrix = confusion_matrix(y_test, y_predicted)\n",
    "print(conf_matrix)"
   ]
  },
  {
   "cell_type": "code",
   "execution_count": 50,
   "metadata": {},
   "outputs": [
    {
     "name": "stdout",
     "output_type": "stream",
     "text": [
      "Accuracy Score: 0.9444444444444444\n"
     ]
    }
   ],
   "source": [
    "accuracy = accuracy_score(y_test, y_predicted)\n",
    "print(\"Accuracy Score:\", accuracy)"
   ]
  },
  {
   "cell_type": "markdown",
   "metadata": {},
   "source": [
    "Did you see an improvement in the confusion matrix when increasing max_depth to 5? Did you see an improvement in the accuracy score? Write your conclusions below."
   ]
  },
  {
   "cell_type": "code",
   "execution_count": 51,
   "metadata": {},
   "outputs": [],
   "source": [
    "# There hasn't been an important improvement when increasing max_depth to 5\n",
    "# accuracy score didn't change and confusion matrix is almost the same"
   ]
  },
  {
   "cell_type": "markdown",
   "metadata": {},
   "source": [
    "# Bonus Challenge - Feature Scaling\n",
    "\n",
    "Problem-solving in machine learning is iterative. You can improve your model prediction with various techniques (there is a sweetspot for the time you spend and the improvement you receive though). Now you've completed only one iteration of ML analysis. There are more iterations you can conduct to make improvements. In order to be able to do that, you will need deeper knowledge in statistics and master more data analysis techniques. In this bootcamp, we don't have time to achieve that advanced goal. But you will make constant efforts after the bootcamp to eventually get there.\n",
    "\n",
    "However, now we do want you to learn one of the advanced techniques which is called *feature scaling*. The idea of feature scaling is to standardize/normalize the range of independent variables or features of the data. This can make the outliers more apparent so that you can remove them. This step needs to happen during Challenge 6 after you split the training and test data because you don't want to split the data again which makes it impossible to compare your results with and without feature scaling. For general concepts about feature scaling, click [here](https://en.wikipedia.org/wiki/Feature_scaling). To read deeper, click [here](https://medium.com/greyatom/why-how-and-when-to-scale-your-features-4b30ab09db5e).\n",
    "\n",
    "In the next cell, attempt to improve your model prediction accuracy by means of feature scaling. A library you can utilize is `sklearn.preprocessing.RobustScaler` ([documentation](https://scikit-learn.org/stable/modules/generated/sklearn.preprocessing.RobustScaler.html)). You'll use the `RobustScaler` to fit and transform your `X_train`, then transform `X_test`. You will use logistic regression to fit and predict your transformed data and obtain the accuracy score in the same way. Compare the accuracy score with your normalized data with the previous accuracy data. Is there an improvement?"
   ]
  },
  {
   "cell_type": "code",
   "execution_count": null,
   "metadata": {},
   "outputs": [],
   "source": [
    "# Your code here"
   ]
  }
 ],
 "metadata": {
  "kernelspec": {
   "display_name": "Python 3 (ipykernel)",
   "language": "python",
   "name": "python3"
  },
  "language_info": {
   "codemirror_mode": {
    "name": "ipython",
    "version": 3
   },
   "file_extension": ".py",
   "mimetype": "text/x-python",
   "name": "python",
   "nbconvert_exporter": "python",
   "pygments_lexer": "ipython3",
   "version": "3.11.5"
  },
  "varInspector": {
   "cols": {
    "lenName": 16,
    "lenType": 16,
    "lenVar": 40
   },
   "kernels_config": {
    "python": {
     "delete_cmd_postfix": "",
     "delete_cmd_prefix": "del ",
     "library": "var_list.py",
     "varRefreshCmd": "print(var_dic_list())"
    },
    "r": {
     "delete_cmd_postfix": ") ",
     "delete_cmd_prefix": "rm(",
     "library": "var_list.r",
     "varRefreshCmd": "cat(var_dic_list()) "
    }
   },
   "types_to_exclude": [
    "module",
    "function",
    "builtin_function_or_method",
    "instance",
    "_Feature"
   ],
   "window_display": false
  }
 },
 "nbformat": 4,
 "nbformat_minor": 2
}
